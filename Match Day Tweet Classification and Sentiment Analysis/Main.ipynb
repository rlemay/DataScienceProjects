{
 "cells": [
  {
   "cell_type": "markdown",
   "metadata": {
    "id": "TSAHj4A9Dzgy"
   },
   "source": [
    "**Set Up**"
   ]
  },
  {
   "cell_type": "code",
   "execution_count": 1,
   "metadata": {
    "id": "xoeYBkCrjoO2"
   },
   "outputs": [],
   "source": [
    "!pip install -q pyspark"
   ]
  },
  {
   "cell_type": "code",
   "execution_count": 2,
   "metadata": {
    "colab": {
     "base_uri": "https://localhost:8080/"
    },
    "id": "bxzQu97T7jVZ",
    "outputId": "c4b98ccc-e869-4667-b1b2-586634f7045a"
   },
   "outputs": [
    {
     "name": "stdout",
     "output_type": "stream",
     "text": [
      "Requirement already satisfied: pymongo[srv,tls] in /usr/local/lib/python3.7/dist-packages (3.12.1)\n",
      "Requirement already satisfied: dnspython<3.0.0,>=1.16.0 in /usr/local/lib/python3.7/dist-packages (from pymongo[srv,tls]) (2.1.0)\n"
     ]
    }
   ],
   "source": [
    "# to use mongoDB\n",
    "# original intent was to add labels and sentiment score to mongoDB, but did not have opportunity to finish\n",
    "!pip install pymongo[tls,srv]"
   ]
  },
  {
   "cell_type": "code",
   "execution_count": 3,
   "metadata": {
    "colab": {
     "base_uri": "https://localhost:8080/"
    },
    "id": "XANXc8yLjq0Y",
    "outputId": "dae3ea81-ced5-4567-dd30-afc3da504da4"
   },
   "outputs": [
    {
     "name": "stdout",
     "output_type": "stream",
     "text": [
      "[nltk_data] Downloading package wordnet to /root/nltk_data...\n",
      "[nltk_data]   Package wordnet is already up-to-date!\n",
      "[nltk_data] Downloading package punkt to /root/nltk_data...\n",
      "[nltk_data]   Package punkt is already up-to-date!\n",
      "[nltk_data] Downloading package averaged_perceptron_tagger to\n",
      "[nltk_data]     /root/nltk_data...\n",
      "[nltk_data]   Package averaged_perceptron_tagger is already up-to-\n",
      "[nltk_data]       date!\n",
      "[nltk_data] Downloading package stopwords to /root/nltk_data...\n",
      "[nltk_data]   Package stopwords is already up-to-date!\n",
      "[nltk_data] Downloading package genesis to /root/nltk_data...\n",
      "[nltk_data]   Package genesis is already up-to-date!\n"
     ]
    },
    {
     "name": "stderr",
     "output_type": "stream",
     "text": [
      "/usr/local/lib/python3.7/dist-packages/ipykernel_launcher.py:79: FutureWarning: Passing a negative integer is deprecated in version 1.0 and will not be supported in future version. Instead, use None to not limit the column width.\n"
     ]
    }
   ],
   "source": [
    "# import packages\n",
    "\n",
    "# pyspark\n",
    "from pyspark import SparkContext\n",
    "from pyspark.sql import SparkSession\n",
    "from pyspark.streaming import StreamingContext\n",
    "from pyspark.sql import SQLContext\n",
    "from pyspark.sql.functions import lower, col, monotonically_increasing_id, udf, regexp_replace\n",
    "from pyspark.sql import functions as f\n",
    "from pymongo import MongoClient\n",
    "\n",
    "# etc\n",
    "import timeit\n",
    "import time\n",
    "import os\n",
    "import os.path\n",
    "import json\n",
    "import csv\n",
    "import pandas as pd\n",
    "import re\n",
    "import numpy as np\n",
    "pd.options.mode.chained_assignment = None  # default='warn'\n",
    "\n",
    "# text processing\n",
    "#from nltk.stem import SnowballStemmer\n",
    "#from nltk.stem.lancaster import LancasterStemmer\n",
    "import nltk\n",
    "from nltk.corpus import stopwords\n",
    "from nltk.stem.wordnet import WordNetLemmatizer\n",
    "from nltk.stem import WordNetLemmatizer\n",
    "from nltk.stem.porter import PorterStemmer\n",
    "from nltk import FreqDist, word_tokenize\n",
    "from nltk.tokenize import word_tokenize\n",
    "wordnet_lemmatizer = WordNetLemmatizer()\n",
    "from wordcloud import WordCloud, STOPWORDS\n",
    "from nltk.corpus import wordnet as wn\n",
    "from nltk.corpus import genesis\n",
    "from nltk.wsd import lesk\n",
    "nltk.download('wordnet')\n",
    "nltk.download('punkt')\n",
    "nltk.download('averaged_perceptron_tagger')\n",
    "nltk.download('stopwords')\n",
    "nltk.download('genesis')\n",
    "genesis_ic = wn.ic(genesis, False, 0.0)\n",
    "\n",
    "# topic modeling - DNU\n",
    "import gensim\n",
    "from gensim.corpora import Dictionary\n",
    "from gensim.models import ldamodel\n",
    "from gensim import corpora, models, similarities\n",
    "from gensim.models.coherencemodel import CoherenceModel\n",
    "from gensim.models.wrappers import LdaVowpalWabbit, LdaMallet\n",
    "\n",
    "# feature extraction\n",
    "from sklearn.feature_extraction.text import TfidfVectorizer, CountVectorizer\n",
    "from sklearn.metrics import pairwise_distances\n",
    "from scipy.spatial.distance import cosine\n",
    "\n",
    "# classification algorithms\n",
    "from sklearn.neighbors import KNeighborsClassifier\n",
    "from sklearn.svm import SVC, LinearSVC\n",
    "\n",
    "# clustering algorithm\n",
    "from sklearn.cluster import DBSCAN\n",
    "\n",
    "# pipeline\n",
    "from sklearn.pipeline import Pipeline\n",
    "\n",
    "# evaluation + validation\n",
    "from sklearn.metrics import classification_report, accuracy_score, confusion_matrix\n",
    "from sklearn.metrics import roc_curve, auc, roc_auc_score, f1_score, precision_score, recall_score\n",
    "from sklearn.model_selection import StratifiedKFold, cross_val_score, train_test_split, GridSearchCV, ShuffleSplit\n",
    "from sklearn import metrics\n",
    "\n",
    "# visualizations\n",
    "import matplotlib.pyplot as plt\n",
    "\n",
    "# display max column width\n",
    "pd.set_option('display.max_colwidth', -1)\n",
    "\n",
    "\n",
    "#from sklearn.decomposition import NMF, LatentDirichletAllocation\n",
    "#from sklearn import metrics\n",
    "#from sklearn.decomposition import PCA\n",
    "#from geopy.distance import great_circle"
   ]
  },
  {
   "cell_type": "code",
   "execution_count": 4,
   "metadata": {
    "colab": {
     "base_uri": "https://localhost:8080/"
    },
    "id": "3KhOpo1o-paX",
    "outputId": "fb669dae-5a0a-4bf0-d3d0-99704ac4e0dd"
   },
   "outputs": [
    {
     "name": "stderr",
     "output_type": "stream",
     "text": [
      "/usr/local/lib/python3.7/dist-packages/pyspark/sql/context.py:79: FutureWarning: Deprecated in 3.0.0. Use SparkSession.builder.getOrCreate() instead.\n",
      "  FutureWarning\n"
     ]
    }
   ],
   "source": [
    "# create spark context\n",
    "sc = SparkContext.getOrCreate()\n",
    "spark = SparkSession.builder.getOrCreate()\n",
    "sqlContext = SQLContext(sc)"
   ]
  },
  {
   "cell_type": "code",
   "execution_count": null,
   "metadata": {
    "colab": {
     "base_uri": "https://localhost:8080/"
    },
    "id": "jOyj56AGkJxE",
    "outputId": "750ab280-2b0c-4f4b-f299-5058e5f8cac3"
   },
   "outputs": [
    {
     "name": "stdout",
     "output_type": "stream",
     "text": [
      "34.86.84.56"
     ]
    }
   ],
   "source": [
    "# get IP for mongodb\n",
    "!curl ipecho.net/plain"
   ]
  },
  {
   "cell_type": "code",
   "execution_count": null,
   "metadata": {
    "colab": {
     "base_uri": "https://localhost:8080/"
    },
    "id": "okpknv9qkUEn",
    "outputId": "1755f2e5-d9c5-4fc5-f14f-3a528e8ca1b2"
   },
   "outputs": [
    {
     "name": "stdout",
     "output_type": "stream",
     "text": [
      "{'host': 'cluster0-shard-00-02.qvahh.mongodb.net:27017', 'version': '4.4.10', 'process': 'mongod', 'pid': 244722, 'uptime': 3272992.0, 'uptimeMillis': 3272991659, 'uptimeEstimate': 3272991, 'localTime': datetime.datetime(2021, 11, 26, 14, 13, 42, 202000), 'asserts': {'regular': 0, 'warning': 0, 'msg': 0, 'user': 0, 'rollovers': 0}, 'connections': {'current': 7, 'available': 493, 'totalCreated': 188}, 'extra_info': {'note': 'fields vary by platform', 'page_faults': 0}, 'network': {'bytesIn': 86405880, 'bytesOut': 44760538, 'numRequests': 9549}, 'opcounters': {'insert': 101847, 'query': 311, 'update': 0, 'delete': 0, 'getmore': 2, 'command': 9209, 'deprecated': {'query': 0, 'getmore': 0}}, 'opcountersRepl': {'insert': 0, 'query': 0, 'update': 0, 'delete': 0, 'getmore': 0, 'command': 0, 'deprecated': {'query': 0, 'getmore': 0}}, 'repl': {'topologyVersion': {'processId': ObjectId('616efa76ac21ec466289c8f6'), 'counter': 6}, 'hosts': ['cluster0-shard-00-00.qvahh.mongodb.net:27017', 'cluster0-shard-00-01.qvahh.mongodb.net:27017', 'cluster0-shard-00-02.qvahh.mongodb.net:27017'], 'setName': 'atlas-12r5ds-shard-0', 'setVersion': 10, 'ismaster': True, 'secondary': False, 'primary': 'cluster0-shard-00-02.qvahh.mongodb.net:27017', 'tags': {'provider': 'AWS', 'region': 'US_EAST_1', 'workloadType': 'OPERATIONAL', 'nodeType': 'ELECTABLE'}, 'me': 'cluster0-shard-00-02.qvahh.mongodb.net:27017', 'electionId': ObjectId('7fffffff0000000000000079'), 'lastWrite': {'opTime': {'ts': Timestamp(1637936022, 4), 't': 121}, 'lastWriteDate': datetime.datetime(2021, 11, 26, 14, 13, 42), 'majorityOpTime': {'ts': Timestamp(1637936022, 4), 't': 121}, 'majorityWriteDate': datetime.datetime(2021, 11, 26, 14, 13, 42)}, 'rbid': 2}, 'storageEngine': {'name': 'wiredTiger', 'supportsCommittedReads': True, 'oldestRequiredTimestampForCrashRecovery': Timestamp(1637936012, 6), 'supportsPendingDrops': True, 'dropPendingIdents': 0, 'supportsTwoPhaseIndexBuild': True, 'supportsSnapshotReadConcern': True, 'readOnly': False, 'persistent': True, 'backupCursorOpen': False}, 'mem': {'bits': 64, 'resident': 0, 'virtual': 0, 'supported': True, 'mapped': 0, 'mappedWithJournal': 0}, 'metrics': {'aggStageCounters': {'search': 0, 'searchBeta': 0}, 'atlas': {'connectionPool': {'totalCreated': 125793}}}, 'ok': 1.0, '$clusterTime': {'clusterTime': Timestamp(1637936022, 4), 'signature': {'hash': b'\\x81\\x1c\\x0c\\xcd\\x80\\xf0\\x140\\x02/\\x13\\x82\\xf1\\x97*\\x02\\xae\\xd7F\\xa8', 'keyId': 6995437629856546818}}, 'operationTime': Timestamp(1637936022, 4), 'opLatencies': {'reads': {'latency': 22256374, 'ops': 962}, 'writes': {'latency': 4066252, 'ops': 9}, 'commands': {'latency': 306136551168, 'ops': 8556}}, 'atlasVersion': {'version': '20211117.0.0.1636741791', 'gitVersion': '5f6870150e1606a80e2eaa2258c64b1b5e7dd5b0'}}\n"
     ]
    }
   ],
   "source": [
    "# set up monogo connection to hwTest db\n",
    "clientTest = MongoClient('not including due to pw')\n",
    "db = clientTest.hwTest\n",
    "\n",
    "# set up connection to collection\n",
    "collection = db[\"project\"]\n",
    "\n",
    "# verify connection\n",
    "serverStatusResult=db.command(\"serverStatus\")\n",
    "print(serverStatusResult)"
   ]
  },
  {
   "cell_type": "markdown",
   "metadata": {
    "id": "L-teq2_nR9IT"
   },
   "source": [
    "Code Used to Gather Tweets"
   ]
  },
  {
   "cell_type": "code",
   "execution_count": null,
   "metadata": {
    "id": "-rNkXSAQR8eN"
   },
   "outputs": [],
   "source": [
    "# http://adilmoujahid.com/posts/2014/07/twitter-analytics/\n",
    "\n",
    "#from tweepy.streaming import StreamListener\n",
    "#from tweepy import OAuthHandler\n",
    "#from tweepy import Stream\n",
    "\n",
    "#Variables that contains the user credentials to access Twitter API\n",
    "#consumer_key = \n",
    "#consumer_secret = \n",
    "#access_token = \n",
    "#access_token_secret = \n",
    "\n",
    "#save_file = open('medstudenttwitter1009.v1.json', 'a')\n",
    "\n",
    "#This is a basic listener that just prints received tweets to stdout.\n",
    "#class StdOutListener(StreamListener):\n",
    "\n",
    "#    def on_data(self, data):\n",
    "#        if isinstance(data, dict):\n",
    "#            # An attempt to cut down on non English tweets.\n",
    "#            if data['user']['lang'] != 'en':\n",
    "#                return\n",
    "\n",
    "\n",
    "#        print(data)\n",
    "#        save_file.write(str(data))\n",
    "#        return True\n",
    "\n",
    "#    def on_error(self, status):\n",
    "#        print(status)\n",
    "\n",
    "#if __name__ == '__main__':\n",
    "\n",
    "    #This handles Twitter authetification and the connection to Twitter Streaming API\n",
    "#    l = StdOutListener()\n",
    "#    auth = OAuthHandler(consumer_key, consumer_secret)\n",
    "#    auth.set_access_token(access_token, access_token_secret)\n",
    "\n",
    "#while True:\n",
    "#\ttry:\n",
    "#\t\tstream = Stream(auth, l)\n",
    "#\t\tstream.filter(track=['applicationfever', 'jbcarmody', 'eras','match2022','medtwitter','medstudents','aamc','match2021','medicalresidency','usmle', 'resident','residency'])\n",
    "#\texcept: \n",
    "#\t\tcontinue"
   ]
  },
  {
   "cell_type": "markdown",
   "metadata": {
    "id": "Ni4DsW__RwzB"
   },
   "source": [
    "**Obtain and Scrub**"
   ]
  },
  {
   "cell_type": "markdown",
   "metadata": {
    "id": "pMzunBKRD3tC"
   },
   "source": [
    "Load data in pyspark dataframe and filter"
   ]
  },
  {
   "cell_type": "code",
   "execution_count": null,
   "metadata": {
    "colab": {
     "base_uri": "https://localhost:8080/"
    },
    "id": "Gc93slZeratC",
    "outputId": "40a19887-2131-43ee-ca0b-34ad1c9ffa87"
   },
   "outputs": [
    {
     "name": "stdout",
     "output_type": "stream",
     "text": [
      "158395\n"
     ]
    }
   ],
   "source": [
    "# Load Twitter data\n",
    "\n",
    "# empty list\n",
    "data = []\n",
    "\n",
    "# append line by line from first file\n",
    "for line in open('/content/medstudenttwitter1003.1.json'):\n",
    "    try:\n",
    "        data.append(json.loads(line))\n",
    "    except:\n",
    "        pass\n",
    "\n",
    "# append line by line from second file\n",
    "for line in open('/content/medstudenttwitter1003.2.json'):\n",
    "    try:\n",
    "        data.append(json.loads(line))\n",
    "    except:\n",
    "        pass\n",
    "\n",
    "for line in open('/content/medstudenttwitter1004.1.json'):\n",
    "    try:\n",
    "        data.append(json.loads(line))\n",
    "    except:\n",
    "        pass\n",
    "    \n",
    "for line in open('/content/medstudenttwitter1004.2.json'):\n",
    "    try:\n",
    "        data.append(json.loads(line))\n",
    "    except:\n",
    "        pass\n",
    "    \n",
    "for line in open('/content/medstudenttwitter1005.v1.json'):\n",
    "    try:\n",
    "        data.append(json.loads(line))\n",
    "    except:\n",
    "        pass\n",
    "    \n",
    "for line in open('/content/medstudenttwitter1005.v2.json'):\n",
    "    try:\n",
    "        data.append(json.loads(line))\n",
    "    except:\n",
    "        pass\n",
    "    \n",
    "for line in open('/content/medstudenttwitter1006.v1.json'):\n",
    "    try:\n",
    "        data.append(json.loads(line))\n",
    "    except:\n",
    "        pass\n",
    "    \n",
    "for line in open('/content/medstudenttwitter1006.v2.json'):\n",
    "    try:\n",
    "        data.append(json.loads(line))\n",
    "    except:\n",
    "        pass\n",
    "\n",
    "for line in open('/content/medstudenttwitter1007.v1.json'):\n",
    "    try:\n",
    "        data.append(json.loads(line))\n",
    "    except:\n",
    "        pass\n",
    "    \n",
    "for line in open('/content/medstudenttwitter1007.v2.json'):\n",
    "    try:\n",
    "        data.append(json.loads(line))\n",
    "    except:\n",
    "        pass\n",
    "    \n",
    "for line in open('/content/medstudenttwitter1008.v1.json'):\n",
    "    try:\n",
    "        data.append(json.loads(line))\n",
    "    except:\n",
    "        pass\n",
    "    \n",
    "for line in open('/content/medstudenttwitter1008.v2.json'):\n",
    "    try:\n",
    "        data.append(json.loads(line))\n",
    "    except:\n",
    "        pass\n",
    "\n",
    "for line in open('/content/medstudenttwitter1008.v3.json'):\n",
    "    try:\n",
    "        data.append(json.loads(line))\n",
    "    except:\n",
    "        pass\n",
    "    \n",
    "for line in open('/content/medstudenttwitter1009.v1.json'):\n",
    "    try:\n",
    "        data.append(json.loads(line))\n",
    "    except:\n",
    "        pass\n",
    "    \n",
    "# check length\n",
    "print(len(data))"
   ]
  },
  {
   "cell_type": "code",
   "execution_count": null,
   "metadata": {
    "colab": {
     "base_uri": "https://localhost:8080/"
    },
    "id": "WLfyLZsTtVL1",
    "outputId": "bb650f7a-a2b1-415a-80c1-90373454b473"
   },
   "outputs": [
    {
     "data": {
      "text/plain": [
       "158395"
      ]
     },
     "execution_count": 6,
     "metadata": {},
     "output_type": "execute_result"
    }
   ],
   "source": [
    "# removing any error messages from Twitter API\n",
    "tweets = []\n",
    "for T in data:\n",
    "    if 'text' in T:\n",
    "        tweets.append(T)\n",
    "\n",
    "# check length - no error messages        \n",
    "len(tweets)"
   ]
  },
  {
   "cell_type": "code",
   "execution_count": null,
   "metadata": {
    "id": "gNw9sVPStIoJ"
   },
   "outputs": [],
   "source": [
    "# def function to get extended tweet text if tweet is truncated\n",
    "def tweetText(T):\n",
    "    if T[\"truncated\"]:\n",
    "        return T['extended_tweet']['full_text']\n",
    "    else:\n",
    "        return T['text']"
   ]
  },
  {
   "cell_type": "code",
   "execution_count": null,
   "metadata": {
    "id": "vG3mH7xXrawK"
   },
   "outputs": [],
   "source": [
    "# extract data from tweets\n",
    "ids = [T['id_str'] for T in tweets] # twitter id\n",
    "times = [T['created_at'] for T in tweets] # timestamp\n",
    "texts = [tweetText(T) for T in tweets] # text\n",
    "screen_names = [T['user']['screen_name'] for T in tweets] # user screen_name\n",
    "followers_count = [T['user']['followers_count'] for T in tweets] # follower count\n",
    "friends_count = [T['user']['friends_count'] for T in tweets] # friend count\n",
    "names = [T['user']['name'] for T in tweets] # user name\n",
    "lang = [T['lang'] for T in tweets] # language\n",
    "\n",
    "# open csv for writing\n",
    "out = open('tweetdata_out.csv', 'w', encoding='UTF-8', newline='')\n",
    "\n",
    "# write header to csv\n",
    "out.write('id,created_at,text,screen_name,followers_count,friends_count,name,lang\\n')\n",
    "\n",
    "# zip data\n",
    "rows = list(zip(ids, times, texts, screen_names, followers_count, friends_count, names, lang))\n",
    "\n",
    "# start to write to file\n",
    "csv = csv.writer(out)\n",
    "\n",
    "for row in rows:                       # for each row\n",
    "    values = [value for value in row]\n",
    "    csv.writerow(values)               # write data to csv\n",
    "\n",
    "# close csv file\n",
    "out.close()"
   ]
  },
  {
   "cell_type": "code",
   "execution_count": null,
   "metadata": {
    "id": "NnYhKaL5razP"
   },
   "outputs": [],
   "source": [
    "# get file\n",
    "inputPath = os.path.join('/content/tweetdata_out.csv')\n",
    "fileName = os.path.join(inputPath)\n",
    "# read in file to pyspark dataframe\n",
    "df0 = sqlContext.read.format('csv').option(\"multiLine\",\"true\").option('delimiter',',').option('header','true').load('/content/tweetdata_out.csv')"
   ]
  },
  {
   "cell_type": "markdown",
   "metadata": {
    "id": "TNz1mEKTqg0F"
   },
   "source": [
    "Preprocessing in PySpark"
   ]
  },
  {
   "cell_type": "code",
   "execution_count": null,
   "metadata": {
    "colab": {
     "base_uri": "https://localhost:8080/"
    },
    "id": "7RCHca__xggW",
    "outputId": "a8acd5e7-fd4d-43a4-b35f-767589b32c85"
   },
   "outputs": [
    {
     "name": "stdout",
     "output_type": "stream",
     "text": [
      "0.6776665780000712\n"
     ]
    }
   ],
   "source": [
    "# start timer for cleaning runtime\n",
    "start_time = timeit.default_timer()\n",
    "\n",
    "# filter out non-english tweets\n",
    "df1 = df0.filter(df0.lang == 'en\\r')\n",
    "# convert text to lowercase\n",
    "df1 = df1.withColumn('text', lower(col('text')))\n",
    "# filter out retweets\n",
    "df1 = df1.filter(~(df1.text.startswith('rt')))\n",
    "# filter tweets that contain 'resident evil'\n",
    "df2 = df1.filter(~(df1.text.contains('resident evil')))\n",
    "\n",
    "# store id in twitter_id\n",
    "df2 = df2.withColumn(\"twitter_id\", df2[\"id\"])\n",
    "# store id used for mongoDB in _id\n",
    "df_index = df2.select(\"*\").withColumn(\"id\", monotonically_increasing_id())\n",
    "df_index=df_index.withColumnRenamed(\"id\",\"_id\")\n",
    "\n",
    "# add columns for rigid filter\n",
    "tags = ['applicationfever','jbcarmody','match2022','medtwitter','medstudents','aamc','match2021','usmle','medicalresidency','eras','resident','residency','student','doctor','match22','interview','applicant','program']\n",
    "for i in tags:\n",
    "  df_index = df_index.withColumn(i, df_index.text.contains(i).cast('integer'))\n",
    "\n",
    "# add lesk algorithm definition of residency and resident\n",
    "df_index = df_index.withColumn('resyDef',f.when(df_index.text.contains('residency'), lesk(word_tokenize(str(df_index.text)),'residency').definition()))\n",
    "df_index = df_index.withColumn('resDef',f.when(df_index.text.contains('resident'), lesk(word_tokenize(str(df_index.text)),'resident').definition()))\n",
    "\n",
    "# add boolean flag for existance of word physician in either definition\n",
    "df_index = df_index.withColumn('resPhys',f.when(df_index.resyDef.contains('physician') | df_index.resDef.contains('physician'),1).otherwise(0))\n",
    "# drop unneeded columns\n",
    "df_index = df_index.drop('resyDef','resDef','lang')\n",
    "\n",
    "# add filter column that sums tag columns\n",
    "# lw_tags have a weight of 1\n",
    "# hw_tags have a weight of 2\n",
    "lw_tags = ['applicationfever','jbcarmody','medtwitter','medstudents','aamc','usmle','resPhys','eras',\n",
    "           'student','doctor','interview','applicant','program']\n",
    "hw_tags = ['match2022','match22','match2021','medicalresidency']\n",
    "df_index = df_index.withColumn('filter', sum(df_index[col] for col in lw_tags)+sum(2*df_index[col] for col in hw_tags))\n",
    "\n",
    "# produce elapsed time\n",
    "elapsed = timeit.default_timer() - start_time\n",
    "print(elapsed)"
   ]
  },
  {
   "cell_type": "code",
   "execution_count": null,
   "metadata": {
    "id": "CD-8tpwNQ30i"
   },
   "outputs": [],
   "source": [
    "# convert to dictionary to load to database\n",
    "toLoad = list(map(lambda row: row.asDict(), df_index.collect()))\n",
    "\n",
    "# add to database\n",
    "collection.insert_many(toLoad)"
   ]
  },
  {
   "cell_type": "code",
   "execution_count": null,
   "metadata": {
    "colab": {
     "base_uri": "https://localhost:8080/"
    },
    "id": "NdbhZPkdmslv",
    "outputId": "499d3468-7908-4064-b604-610e5235c360"
   },
   "outputs": [
    {
     "name": "stdout",
     "output_type": "stream",
     "text": [
      "22763\n"
     ]
    }
   ],
   "source": [
    "# 22,763 out of 158,395 tweets remain\n",
    "print(df2.count())"
   ]
  },
  {
   "cell_type": "markdown",
   "metadata": {
    "id": "A7C9f0HaPEAR"
   },
   "source": [
    "Additional Tweet Cleaning in Pandas"
   ]
  },
  {
   "cell_type": "code",
   "execution_count": null,
   "metadata": {
    "id": "3YOxdv2j3ssw"
   },
   "outputs": [],
   "source": [
    "# convert to pandas for text cleaning\n",
    "df_pd = df_index.toPandas()"
   ]
  },
  {
   "cell_type": "code",
   "execution_count": null,
   "metadata": {
    "id": "ihkzbwX8vs32"
   },
   "outputs": [],
   "source": [
    "# text_cleaning function\n",
    "def text_cleaning(dftext):\n",
    "    # replace numbers with empty character\n",
    "    dftext = dftext.replace('[0-9]', '')\n",
    "    # replace strings that begin with http or www. with empty character\n",
    "    dftext = dftext.replace('http\\S+|www.\\S+', '')\n",
    "    # remove puntuation\n",
    "    dftext = re.sub(r'[^\\w\\s]','',dftext)\n",
    "    # replace string with non-alphabetic words & characters with space\n",
    "    dftext = dftext.replace('[^a-zA-Z]', ' ')\n",
    "    # replace words that are less than 3 characters long with space\n",
    "    dftext = ' '.join(word for word in dftext.split() if len(word) > 3)\n",
    "    # remove stopwords + extras\n",
    "    more_stopwords = set(('cant', 'aint', 'today','tonight','today','something','said','really','que','must','take','make',\n",
    "                         'together','begin','also','back','soon','get'))\n",
    "    stoplist = stopwords.words('english')\n",
    "    more_sw = set(stoplist) | more_stopwords\n",
    "    dftext = ' '.join([word for word in dftext.split() if word not in (more_sw)])\n",
    "    # update with lemmatized words\n",
    "    dftext = ' '.join(wordnet_lemmatizer.lemmatize(word) for word in word_tokenize(dftext))\n",
    "    # replace string with non-alphabetic words & characters with space\n",
    "    dftext = dftext.replace('[^a-zA-Z]', ' ')\n",
    "    return dftext\n",
    "\n",
    "# function to remove mentions or links\n",
    "def rem_mentions_sites(dftext):\n",
    "    dftext = re.sub(r'(?:\\@|https?\\://)\\S+','',dftext)\n",
    "    return dftext"
   ]
  },
  {
   "cell_type": "code",
   "execution_count": null,
   "metadata": {
    "colab": {
     "base_uri": "https://localhost:8080/"
    },
    "id": "ezy_j96t4XBG",
    "outputId": "1eb328b2-3436-4657-f2f7-10a7cee01f42"
   },
   "outputs": [
    {
     "name": "stdout",
     "output_type": "stream",
     "text": [
      "9.484416876000068\n"
     ]
    }
   ],
   "source": [
    "# start timer for cleaning runtime\n",
    "start_time2 = timeit.default_timer()\n",
    "\n",
    "# remove mentions/links and clean tweet text\n",
    "# store in clnNoMent\n",
    "df_pd['clnNoMent'] = df_pd['text'].apply(rem_mentions_sites)\n",
    "df_pd['clnNoMent'] = df_pd['clnNoMent'].apply(text_cleaning)\n",
    "\n",
    "# produce elapsed time\n",
    "end_time2 = timeit.default_timer()\n",
    "elapsed2 = end_time2 - start_time2\n",
    "print(elapsed2)\n",
    "\n",
    "# rename filter column to avoid confusion with filter function\n",
    "df_pd.rename(columns={'filter': 'filt'}, inplace=True)\n",
    "\n",
    "# save to csv\n",
    "df_pd.to_csv('tweetdata_cleaned.csv', index=False)\n",
    "\n",
    "# retrieve csv\n",
    "df_pd = pd.read_csv('/content/tweetdata_cleaned.csv')"
   ]
  },
  {
   "cell_type": "markdown",
   "metadata": {
    "id": "AA8-IiKGRZFe"
   },
   "source": [
    "**Explore**"
   ]
  },
  {
   "cell_type": "code",
   "execution_count": null,
   "metadata": {
    "id": "dDRcweDo8UoW"
   },
   "outputs": [],
   "source": [
    "# function to display percentage\n",
    "def perc(num):\n",
    "  return (\"{:.0%}\".format(num))"
   ]
  },
  {
   "cell_type": "code",
   "execution_count": null,
   "metadata": {
    "colab": {
     "base_uri": "https://localhost:8080/"
    },
    "id": "8RO6fZL86OTt",
    "outputId": "8cb0bbe0-921a-4410-8f13-c6c9ef342102"
   },
   "outputs": [
    {
     "name": "stdout",
     "output_type": "stream",
     "text": [
      "applicationfever 0\n",
      "jbcarmody 66\n",
      "match2022 426\n",
      "medtwitter 2420\n",
      "medstudents 47\n",
      "aamc 45\n",
      "match2021 15\n",
      "usmle 117\n",
      "medicalresidency 0\n",
      "eras 1979\n",
      "resident 10199\n",
      "residency 2831\n",
      "student 523\n",
      "doctor 507\n",
      "match22 33\n",
      "interview 293\n",
      "applicant 127\n",
      "program 483\n"
     ]
    }
   ],
   "source": [
    "# total tag counts in unfiltered data\n",
    "l1 = []\n",
    "for i in tags:\n",
    "  k = df_pd[i].sum()\n",
    "  l1.append(k)\n",
    "  print(i+' '+str(k))"
   ]
  },
  {
   "cell_type": "code",
   "execution_count": null,
   "metadata": {
    "colab": {
     "base_uri": "https://localhost:8080/"
    },
    "id": "aZUhEWq2dPyp",
    "outputId": "a6730380-d3eb-4662-ab82-c8758f827291"
   },
   "outputs": [
    {
     "name": "stdout",
     "output_type": "stream",
     "text": [
      "applicationfever 0%\n",
      "jbcarmody 0%\n",
      "match2022 2%\n",
      "medtwitter 11%\n",
      "medstudents 0%\n",
      "aamc 0%\n",
      "match2021 0%\n",
      "usmle 1%\n",
      "medicalresidency 0%\n",
      "eras 9%\n",
      "resident 45%\n",
      "residency 12%\n",
      "student 2%\n",
      "doctor 2%\n",
      "match22 0%\n",
      "interview 1%\n",
      "applicant 1%\n",
      "program 2%\n"
     ]
    }
   ],
   "source": [
    "# percentage of total tag counts in unfiltered data\n",
    "l2 = []\n",
    "siz = len(df_pd.index)\n",
    "for i in tags:\n",
    "  k = round(df_pd[i].sum()/siz,2)\n",
    "  l2.append(k)\n",
    "  print(i+' '+perc(k))"
   ]
  },
  {
   "cell_type": "code",
   "execution_count": null,
   "metadata": {
    "colab": {
     "base_uri": "https://localhost:8080/"
    },
    "id": "q7aZphKEb77i",
    "outputId": "9c9a9279-db5f-4bf5-eb81-890d8a26177e"
   },
   "outputs": [
    {
     "name": "stdout",
     "output_type": "stream",
     "text": [
      "applicationfever 0\n",
      "jbcarmody 17\n",
      "match2022 426\n",
      "medtwitter 530\n",
      "medstudents 47\n",
      "aamc 14\n",
      "match2021 15\n",
      "usmle 40\n",
      "medicalresidency 0\n",
      "eras 150\n",
      "resident 127\n",
      "residency 525\n",
      "student 371\n",
      "doctor 257\n",
      "match22 33\n",
      "interview 226\n",
      "applicant 114\n",
      "program 371\n"
     ]
    }
   ],
   "source": [
    "# total tag counts in rigid filter\n",
    "l3 = []\n",
    "for i in tags:\n",
    "  k = df_pd[df_pd.filt>1][i].sum()\n",
    "  l3.append(k)\n",
    "  print(i+' '+str(k))"
   ]
  },
  {
   "cell_type": "code",
   "execution_count": null,
   "metadata": {
    "colab": {
     "base_uri": "https://localhost:8080/"
    },
    "id": "Uivh666-cLas",
    "outputId": "9a1873b2-a89b-48fd-a2d6-2cbcf38f6f30"
   },
   "outputs": [
    {
     "name": "stdout",
     "output_type": "stream",
     "text": [
      "applicationfever 0%\n",
      "jbcarmody 1%\n",
      "match2022 31%\n",
      "medtwitter 39%\n",
      "medstudents 3%\n",
      "aamc 1%\n",
      "match2021 1%\n",
      "usmle 3%\n",
      "medicalresidency 0%\n",
      "eras 11%\n",
      "resident 9%\n",
      "residency 38%\n",
      "student 27%\n",
      "doctor 19%\n",
      "match22 2%\n",
      "interview 16%\n",
      "applicant 8%\n",
      "program 27%\n"
     ]
    }
   ],
   "source": [
    "# percentage of tag counts in rigid filter\n",
    "l4 = []\n",
    "siz = len(df_pd[df_pd.filt>1].index)\n",
    "for i in tags:\n",
    "  k = round(df_pd[df_pd.filt>1][i].sum()/siz,2)\n",
    "  l4.append(k)\n",
    "  print(i+' '+perc(k))"
   ]
  },
  {
   "cell_type": "code",
   "execution_count": null,
   "metadata": {
    "colab": {
     "base_uri": "https://localhost:8080/",
     "height": 614
    },
    "id": "zd-SbHbNfhzg",
    "outputId": "8b8836ea-217e-44c6-f6d3-e1138960cb49"
   },
   "outputs": [
    {
     "data": {
      "text/html": [
       "<div>\n",
       "<style scoped>\n",
       "    .dataframe tbody tr th:only-of-type {\n",
       "        vertical-align: middle;\n",
       "    }\n",
       "\n",
       "    .dataframe tbody tr th {\n",
       "        vertical-align: top;\n",
       "    }\n",
       "\n",
       "    .dataframe thead th {\n",
       "        text-align: right;\n",
       "    }\n",
       "</style>\n",
       "<table border=\"1\" class=\"dataframe\">\n",
       "  <thead>\n",
       "    <tr style=\"text-align: right;\">\n",
       "      <th></th>\n",
       "      <th>unfiltCount</th>\n",
       "      <th>unfiltPerc</th>\n",
       "      <th>filtCount</th>\n",
       "      <th>filtPerc</th>\n",
       "    </tr>\n",
       "  </thead>\n",
       "  <tbody>\n",
       "    <tr>\n",
       "      <th>applicationfever</th>\n",
       "      <td>0</td>\n",
       "      <td>0.00</td>\n",
       "      <td>0</td>\n",
       "      <td>0.00</td>\n",
       "    </tr>\n",
       "    <tr>\n",
       "      <th>jbcarmody</th>\n",
       "      <td>66</td>\n",
       "      <td>0.00</td>\n",
       "      <td>17</td>\n",
       "      <td>0.01</td>\n",
       "    </tr>\n",
       "    <tr>\n",
       "      <th>match2022</th>\n",
       "      <td>426</td>\n",
       "      <td>0.02</td>\n",
       "      <td>426</td>\n",
       "      <td>0.31</td>\n",
       "    </tr>\n",
       "    <tr>\n",
       "      <th>medtwitter</th>\n",
       "      <td>2420</td>\n",
       "      <td>0.11</td>\n",
       "      <td>530</td>\n",
       "      <td>0.39</td>\n",
       "    </tr>\n",
       "    <tr>\n",
       "      <th>medstudents</th>\n",
       "      <td>47</td>\n",
       "      <td>0.00</td>\n",
       "      <td>47</td>\n",
       "      <td>0.03</td>\n",
       "    </tr>\n",
       "    <tr>\n",
       "      <th>aamc</th>\n",
       "      <td>45</td>\n",
       "      <td>0.00</td>\n",
       "      <td>14</td>\n",
       "      <td>0.01</td>\n",
       "    </tr>\n",
       "    <tr>\n",
       "      <th>match2021</th>\n",
       "      <td>15</td>\n",
       "      <td>0.00</td>\n",
       "      <td>15</td>\n",
       "      <td>0.01</td>\n",
       "    </tr>\n",
       "    <tr>\n",
       "      <th>usmle</th>\n",
       "      <td>117</td>\n",
       "      <td>0.01</td>\n",
       "      <td>40</td>\n",
       "      <td>0.03</td>\n",
       "    </tr>\n",
       "    <tr>\n",
       "      <th>medicalresidency</th>\n",
       "      <td>0</td>\n",
       "      <td>0.00</td>\n",
       "      <td>0</td>\n",
       "      <td>0.00</td>\n",
       "    </tr>\n",
       "    <tr>\n",
       "      <th>eras</th>\n",
       "      <td>1979</td>\n",
       "      <td>0.09</td>\n",
       "      <td>150</td>\n",
       "      <td>0.11</td>\n",
       "    </tr>\n",
       "    <tr>\n",
       "      <th>resident</th>\n",
       "      <td>10199</td>\n",
       "      <td>0.45</td>\n",
       "      <td>127</td>\n",
       "      <td>0.09</td>\n",
       "    </tr>\n",
       "    <tr>\n",
       "      <th>residency</th>\n",
       "      <td>2831</td>\n",
       "      <td>0.12</td>\n",
       "      <td>525</td>\n",
       "      <td>0.38</td>\n",
       "    </tr>\n",
       "    <tr>\n",
       "      <th>student</th>\n",
       "      <td>523</td>\n",
       "      <td>0.02</td>\n",
       "      <td>371</td>\n",
       "      <td>0.27</td>\n",
       "    </tr>\n",
       "    <tr>\n",
       "      <th>doctor</th>\n",
       "      <td>507</td>\n",
       "      <td>0.02</td>\n",
       "      <td>257</td>\n",
       "      <td>0.19</td>\n",
       "    </tr>\n",
       "    <tr>\n",
       "      <th>match22</th>\n",
       "      <td>33</td>\n",
       "      <td>0.00</td>\n",
       "      <td>33</td>\n",
       "      <td>0.02</td>\n",
       "    </tr>\n",
       "    <tr>\n",
       "      <th>interview</th>\n",
       "      <td>293</td>\n",
       "      <td>0.01</td>\n",
       "      <td>226</td>\n",
       "      <td>0.16</td>\n",
       "    </tr>\n",
       "    <tr>\n",
       "      <th>applicant</th>\n",
       "      <td>127</td>\n",
       "      <td>0.01</td>\n",
       "      <td>114</td>\n",
       "      <td>0.08</td>\n",
       "    </tr>\n",
       "    <tr>\n",
       "      <th>program</th>\n",
       "      <td>483</td>\n",
       "      <td>0.02</td>\n",
       "      <td>371</td>\n",
       "      <td>0.27</td>\n",
       "    </tr>\n",
       "  </tbody>\n",
       "</table>\n",
       "</div>"
      ],
      "text/plain": [
       "                  unfiltCount  unfiltPerc  filtCount  filtPerc\n",
       "applicationfever  0            0.00        0          0.00    \n",
       "jbcarmody         66           0.00        17         0.01    \n",
       "match2022         426          0.02        426        0.31    \n",
       "medtwitter        2420         0.11        530        0.39    \n",
       "medstudents       47           0.00        47         0.03    \n",
       "aamc              45           0.00        14         0.01    \n",
       "match2021         15           0.00        15         0.01    \n",
       "usmle             117          0.01        40         0.03    \n",
       "medicalresidency  0            0.00        0          0.00    \n",
       "eras              1979         0.09        150        0.11    \n",
       "resident          10199        0.45        127        0.09    \n",
       "residency         2831         0.12        525        0.38    \n",
       "student           523          0.02        371        0.27    \n",
       "doctor            507          0.02        257        0.19    \n",
       "match22           33           0.00        33         0.02    \n",
       "interview         293          0.01        226        0.16    \n",
       "applicant         127          0.01        114        0.08    \n",
       "program           483          0.02        371        0.27    "
      ]
     },
     "execution_count": 28,
     "metadata": {},
     "output_type": "execute_result"
    }
   ],
   "source": [
    "# quick summary of changes seen in tag volume from unfiltered to rigidly filtered data\n",
    "quick_sum = pd.DataFrame({'unfiltCount': l1,'unfiltPerc': l2,'filtCount': l3,'filtPerc': l4})\n",
    "quick_sum.index = tags\n",
    "quick_sum"
   ]
  },
  {
   "cell_type": "markdown",
   "metadata": {
    "id": "pwMCA2pi8vya"
   },
   "source": [
    "The visuazliation below shows desired changes in tag percentage from unfiltered to rigidgly filtere data. The \"residency\" tag decreased from 45% to 9%, which was exactly the intent of the rigid filter."
   ]
  },
  {
   "cell_type": "code",
   "execution_count": null,
   "metadata": {
    "colab": {
     "base_uri": "https://localhost:8080/",
     "height": 340
    },
    "id": "4A_qHj9BlnSs",
    "outputId": "fa8691c9-a171-472c-a815-470b485020d5"
   },
   "outputs": [
    {
     "data": {
      "text/plain": [
       "Text(0, 0.5, 'Percent of Tweets')"
      ]
     },
     "execution_count": 32,
     "metadata": {},
     "output_type": "execute_result"
    },
    {
     "data": {
      "image/png": "[encoded data removed]",
      "text/plain": [
       "<Figure size 576x216 with 1 Axes>"
      ]
     },
     "metadata": {
      "needs_background": "light"
     },
     "output_type": "display_data"
    }
   ],
   "source": [
    "# Visalize change in percentage of tags in unfiltered data to rigidly filtered data\n",
    "quick_sum.plot(y=['unfiltPerc', 'filtPerc'], kind='bar', color=['darkgrey','cornflowerblue'], width=.8, figsize=(8,3)).legend(loc='upper left')\n",
    "plt.title('Percentage of Tweets that Contain Tags', horizontalalignment='left',x=0, pad=10)\n",
    "plt.xlabel('Tag')\n",
    "plt.ylabel('Percent of Tweets')"
   ]
  },
  {
   "cell_type": "code",
   "execution_count": null,
   "metadata": {
    "id": "o8JpTW5bSj4X"
   },
   "outputs": [],
   "source": [
    "# text processing\n",
    "\n",
    "# get_clean_tokens function\n",
    "# takes a dataframe column\n",
    "# returns cleaned tokens for regular or bigram freq distribution\n",
    "# removes more words than original clean function\n",
    "\n",
    "def get_clean_tokens(dfcol, bigramFlag=0):\n",
    "    review = []\n",
    "    for x in dfcol:\n",
    "        review.append([x])\n",
    "    \n",
    "    tokens = str(review)   # convert list to str\n",
    "    tokens = tokens.lower()   # convert all to lowercase\n",
    "    tokens = re.sub(\"[^a-zA-Z0-9]\", \" \", tokens)   # remove characters that are not a-z, A-Z, or 0-9\n",
    "    tokens = word_tokenize(tokens)   # tokenize\n",
    "    \n",
    "    if (bigramFlag == 0):   # if bigramFlag == 0\n",
    "        wordnet_lemmatizer = WordNetLemmatizer()\n",
    "        tokens = (wordnet_lemmatizer.lemmatize(word) for word in tokens)   # lemmatize tokens\n",
    "    \n",
    "    from nltk.corpus import stopwords  # pulling this import out of the function creates an error\n",
    "    # set additional stopwords\n",
    "    more_stopwords = set(('the','get','like','see','also','one','two','yesterday','want','day','http'))\n",
    "    extra_stoplist = set(stopwords.words('english')) | more_stopwords   # create full stopword list in extra_stoplist\n",
    "    tokens = (word for word in tokens if word not in extra_stoplist)   # remove all words from extra_stoplist\n",
    "    tokens = (word for word in tokens if word.isalpha())   # remove words with characters that are not in the alphabet\n",
    "    tokens = (word for word in tokens if len(word) >= 3)   # remove words less than 3 characters long\n",
    "    return tokens   # return cleaned tokens"
   ]
  },
  {
   "cell_type": "code",
   "execution_count": null,
   "metadata": {
    "id": "i7sTH_uCSmee"
   },
   "outputs": [],
   "source": [
    "# fdist function\n",
    "# takes cleaned tokens and\n",
    "# a bigramFlag with default = 0\n",
    "# returns frequency distribution\n",
    "\n",
    "def fdist(tokens, bigramFlag=0):\n",
    "    if (bigramFlag != 0):   # if bigram flag is not 0\n",
    "        tokens = nltk.bigrams(tokens)   # then create bigrams\n",
    "    return nltk.FreqDist(tokens)   # return FreqDist on tokens"
   ]
  },
  {
   "cell_type": "code",
   "execution_count": null,
   "metadata": {
    "id": "kmouq90YSoQE"
   },
   "outputs": [],
   "source": [
    "# fdistdf function\n",
    "# takes a frequency distribution, fdist\n",
    "# returns dataframe with words in 1st column and frequency in 2nd column\n",
    "\n",
    "def fdistdf(fdist):\n",
    "    freq_word = []   # create empty list\n",
    "\n",
    "    for k, v in list(fdist.items()):   # for each word, freq pair in fdist\n",
    "        freq_word.append([k, v])       # add to empty list\n",
    "\n",
    "    wordlist = pd.DataFrame(freq_word) # transform list to dataframe\n",
    "\n",
    "    # rename first column to 'word' and second column to 'freq'\n",
    "    wordlist = wordlist.rename(columns={0: 'word', 1: 'freq'})\n",
    "    \n",
    "    # return list sorted in descending frequency with indexes reset\n",
    "    return wordlist.sort_values(by=['freq'], ascending=False).reset_index(drop=True)"
   ]
  },
  {
   "cell_type": "markdown",
   "metadata": {
    "id": "LEA-d7ZuBw3o"
   },
   "source": [
    "**Word frequencies of tweets that contain match2022**"
   ]
  },
  {
   "cell_type": "markdown",
   "metadata": {
    "id": "-XcNgCJOBe1f"
   },
   "source": [
    "Tweets that metion match2022 are most likely in the set of tweets referring to the medical residency placement process. The word frequency distribution graphed below shows certain words such as interview, program, and applicant are seen frequently in these tweets. As such, interview, program, and applicant were added to the words included in the rigid filter."
   ]
  },
  {
   "cell_type": "code",
   "execution_count": null,
   "metadata": {
    "colab": {
     "base_uri": "https://localhost:8080/",
     "height": 313
    },
    "id": "Ju0xGiyWBAp-",
    "outputId": "efadd315-7994-49c4-f651-84dabda26ab7"
   },
   "outputs": [
    {
     "data": {
      "image/png": "[encoded data removed]",
      "text/plain": [
       "<Figure size 576x216 with 1 Axes>"
      ]
     },
     "metadata": {},
     "output_type": "display_data"
    }
   ],
   "source": [
    "plt.style.use('seaborn')\n",
    "plt.figure(figsize=(8,3))\n",
    "plt.title('Match2022 Cleaned Tweet Word Counts: Top 20', horizontalalignment='left',x=0, pad=10)\n",
    "fdist(get_clean_tokens(df_pd[df_pd.match2022==1]['clnNoMent'])).plot(20,color='cornflowerblue')"
   ]
  },
  {
   "cell_type": "markdown",
   "metadata": {
    "id": "Ychw6cB9G4Uo"
   },
   "source": [
    "**Word frequencies of unfiltered tweets**"
   ]
  },
  {
   "cell_type": "markdown",
   "metadata": {
    "id": "sMts-YTfUD7D"
   },
   "source": [
    "Looking at the unfiltered tweets, resident and residency are the most frequently seen followed by medtwitter. Era is also common as it is the stemmed result of eras, which was in the original list of words used to gather tweets."
   ]
  },
  {
   "cell_type": "code",
   "execution_count": null,
   "metadata": {
    "colab": {
     "base_uri": "https://localhost:8080/",
     "height": 363
    },
    "id": "FV8mE1Xik8zV",
    "outputId": "94de64b4-e970-494a-e8c5-a50c19e6bd71"
   },
   "outputs": [
    {
     "data": {
      "text/html": [
       "<div>\n",
       "<style scoped>\n",
       "    .dataframe tbody tr th:only-of-type {\n",
       "        vertical-align: middle;\n",
       "    }\n",
       "\n",
       "    .dataframe tbody tr th {\n",
       "        vertical-align: top;\n",
       "    }\n",
       "\n",
       "    .dataframe thead th {\n",
       "        text-align: right;\n",
       "    }\n",
       "</style>\n",
       "<table border=\"1\" class=\"dataframe\">\n",
       "  <thead>\n",
       "    <tr style=\"text-align: right;\">\n",
       "      <th></th>\n",
       "      <th>Word</th>\n",
       "      <th>Frequency</th>\n",
       "    </tr>\n",
       "  </thead>\n",
       "  <tbody>\n",
       "    <tr>\n",
       "      <th>1</th>\n",
       "      <td>resident</td>\n",
       "      <td>10243</td>\n",
       "    </tr>\n",
       "    <tr>\n",
       "      <th>186</th>\n",
       "      <td>residency</td>\n",
       "      <td>2862</td>\n",
       "    </tr>\n",
       "    <tr>\n",
       "      <th>174</th>\n",
       "      <td>medtwitter</td>\n",
       "      <td>2410</td>\n",
       "    </tr>\n",
       "    <tr>\n",
       "      <th>22</th>\n",
       "      <td>era</td>\n",
       "      <td>1929</td>\n",
       "    </tr>\n",
       "    <tr>\n",
       "      <th>35</th>\n",
       "      <td>year</td>\n",
       "      <td>1241</td>\n",
       "    </tr>\n",
       "    <tr>\n",
       "      <th>98</th>\n",
       "      <td>time</td>\n",
       "      <td>1013</td>\n",
       "    </tr>\n",
       "    <tr>\n",
       "      <th>17</th>\n",
       "      <td>people</td>\n",
       "      <td>944</td>\n",
       "    </tr>\n",
       "    <tr>\n",
       "      <th>112</th>\n",
       "      <td>dont</td>\n",
       "      <td>879</td>\n",
       "    </tr>\n",
       "    <tr>\n",
       "      <th>830</th>\n",
       "      <td>medical</td>\n",
       "      <td>876</td>\n",
       "    </tr>\n",
       "    <tr>\n",
       "      <th>15</th>\n",
       "      <td>need</td>\n",
       "      <td>816</td>\n",
       "    </tr>\n",
       "  </tbody>\n",
       "</table>\n",
       "</div>"
      ],
      "text/plain": [
       "           Word  Frequency\n",
       "1    resident    10243    \n",
       "186  residency   2862     \n",
       "174  medtwitter  2410     \n",
       "22   era         1929     \n",
       "35   year        1241     \n",
       "98   time        1013     \n",
       "17   people      944      \n",
       "112  dont        879      \n",
       "830  medical     876      \n",
       "15   need        816      "
      ]
     },
     "execution_count": 20,
     "metadata": {},
     "output_type": "execute_result"
    }
   ],
   "source": [
    "type(fdist(get_clean_tokens(df_pd['clnNoMent'])))\n",
    "pd.DataFrame(list(fdist(get_clean_tokens(df_pd['clnNoMent'])).items()), columns = [\"Word\",\"Frequency\"]).sort_values(by=['Frequency'], ascending=False).head(10)"
   ]
  },
  {
   "cell_type": "code",
   "execution_count": null,
   "metadata": {
    "colab": {
     "base_uri": "https://localhost:8080/",
     "height": 387
    },
    "id": "S0p37ijlTjzb",
    "outputId": "b093a7cb-7cf4-4e0c-ef15-3885d69dbd1c"
   },
   "outputs": [
    {
     "data": {
      "image/png": "[encoded data removed]",
      "text/plain": [
       "<Figure size 800x300 with 1 Axes>"
      ]
     },
     "metadata": {},
     "output_type": "display_data"
    }
   ],
   "source": [
    "plt.style.use('seaborn')\n",
    "plt.figure(figsize=(8,3))\n",
    "plt.title('Cleaned Tweet Word Counts: Top 20', horizontalalignment='left',x=0, pad=10)\n",
    "fdist(get_clean_tokens(df_pd['clnNoMent'])).plot(20,color='cornflowerblue')"
   ]
  },
  {
   "cell_type": "markdown",
   "metadata": {
    "id": "33q0UUVbBmDS"
   },
   "source": [
    "**Bigram frequencies of unfiltered tweets**"
   ]
  },
  {
   "cell_type": "markdown",
   "metadata": {
    "id": "NC_7bEX6UYhP"
   },
   "source": [
    "We begin to see a lean in the data towards medical tweets when using bigrams."
   ]
  },
  {
   "cell_type": "markdown",
   "metadata": {
    "id": "3VMETQX59sBt"
   },
   "source": [
    "The bigram “vega residency” is a result from the tweets speculating Adele’s Las Vegas residency.  The IELTS exam is an exam for those who wish to work or study in a country where the primary language is English. This bigram is likely a result from tweets discussing exams required for residency in another country. The “reisdent biden” bigram frequency comes from tweets by insurrectionists referring to President Biden."
   ]
  },
  {
   "cell_type": "markdown",
   "metadata": {
    "id": "BJAhYur9EU7W"
   },
   "source": [
    "The events below occured/were discussed during the time period tweets were collected."
   ]
  },
  {
   "cell_type": "markdown",
   "metadata": {
    "id": "tI1yAXZNVAiN"
   },
   "source": [
    "1.  The trailer for the new Resident Evil film came out on October 7.\n",
    "2.  An actor on The Resident discussed her departure from the show with Deadline on October 5.\n",
    "3.  In the first week of October, it was rumored that Adele was considering locations for a Las Vegas residency."
   ]
  },
  {
   "cell_type": "code",
   "execution_count": null,
   "metadata": {
    "colab": {
     "base_uri": "https://localhost:8080/",
     "height": 524
    },
    "id": "_QAwEgJETavj",
    "outputId": "c328c790-cb6a-4dfb-84f7-bdbd7e73b99e"
   },
   "outputs": [
    {
     "data": {
      "image/png": "[encoded data removed]",
      "text/plain": [
       "<Figure size 864x432 with 1 Axes>"
      ]
     },
     "metadata": {},
     "output_type": "display_data"
    }
   ],
   "source": [
    "# display top 40\n",
    "plt.figure(figsize=(12,6))\n",
    "fdist(get_clean_tokens(df_pd['clnNoMent']),1).plot(40,color='cornflowerblue')"
   ]
  },
  {
   "cell_type": "code",
   "execution_count": null,
   "metadata": {
    "colab": {
     "base_uri": "https://localhost:8080/",
     "height": 495
    },
    "id": "Yv-VsFaptZc8",
    "outputId": "52940a4c-cbf9-4c47-9bc4-a77a3c33fadd"
   },
   "outputs": [
    {
     "data": {
      "image/png": "[encoded data removed]",
      "text/plain": [
       "<Figure size 800x300 with 1 Axes>"
      ]
     },
     "metadata": {},
     "output_type": "display_data"
    }
   ],
   "source": [
    "# display top 20 and format for paper\n",
    "plt.style.use('seaborn')\n",
    "plt.figure(figsize=(8,3))\n",
    "plt.title('Cleaned Tweet Birgram Counts: Top 20', horizontalalignment='left',x=0, pad=10)\n",
    "fdist(get_clean_tokens(df_pd['clnNoMent']),1).plot(20,color='cornflowerblue')"
   ]
  },
  {
   "cell_type": "markdown",
   "metadata": {
    "id": "GwpAdz6bEfno"
   },
   "source": [
    "**Word frequencies of rigidly filtered tweets**"
   ]
  },
  {
   "cell_type": "markdown",
   "metadata": {
    "id": "5GegGqADIm2M"
   },
   "source": [
    "The word frequencies of rigidly filtered tweets continue to show data appears as expected."
   ]
  },
  {
   "cell_type": "code",
   "execution_count": null,
   "metadata": {
    "colab": {
     "base_uri": "https://localhost:8080/",
     "height": 471
    },
    "id": "wTRGRdvJTayW",
    "outputId": "94ed0757-d806-4759-e8e9-d60ebb748f96"
   },
   "outputs": [
    {
     "data": {
      "image/png": "[encoded data removed]",
      "text/plain": [
       "<Figure size 864x432 with 1 Axes>"
      ]
     },
     "metadata": {},
     "output_type": "display_data"
    }
   ],
   "source": [
    "plt.figure(figsize=(12,6))\n",
    "fdist(get_clean_tokens(df_pd[df_pd.filt>1]['clnNoMent'])).plot(40,color='cornflowerblue')"
   ]
  },
  {
   "cell_type": "markdown",
   "metadata": {
    "id": "P3vDvKgyEkWK"
   },
   "source": [
    "**Bigram frequencies of rigidly filtered tweets**"
   ]
  },
  {
   "cell_type": "markdown",
   "metadata": {
    "id": "2hVyTfY191mc"
   },
   "source": [
    "The bigrams mentioned above (\"vega residency\", \"IELTS exam\", and \"resident biden\") are not present in the top 40 bigrams of the rigidly filtered data"
   ]
  },
  {
   "cell_type": "code",
   "execution_count": null,
   "metadata": {
    "colab": {
     "base_uri": "https://localhost:8080/",
     "height": 598
    },
    "id": "0N1z0K42Ta1B",
    "outputId": "200827cb-57eb-4e5c-f429-5290dda457bd"
   },
   "outputs": [
    {
     "data": {
      "image/png": "[encoded data removed]",
      "text/plain": [
       "<Figure size 864x432 with 1 Axes>"
      ]
     },
     "metadata": {},
     "output_type": "display_data"
    }
   ],
   "source": [
    "plt.figure(figsize=(12,6))\n",
    "fdist(get_clean_tokens(df_pd[df_pd.filt>1]['clnNoMent']),1).plot(40,color='cornflowerblue')"
   ]
  },
  {
   "cell_type": "markdown",
   "metadata": {
    "id": "A0AtS83OExVW"
   },
   "source": [
    "Add Manually Produced Labels For Modeling"
   ]
  },
  {
   "cell_type": "code",
   "execution_count": null,
   "metadata": {
    "colab": {
     "base_uri": "https://localhost:8080/",
     "height": 143
    },
    "id": "tbc-D8kAEwrC",
    "outputId": "bb1fcbad-0c9d-4c43-f498-39b9b1ba02f6"
   },
   "outputs": [
    {
     "data": {
      "text/html": [
       "<div>\n",
       "<style scoped>\n",
       "    .dataframe tbody tr th:only-of-type {\n",
       "        vertical-align: middle;\n",
       "    }\n",
       "\n",
       "    .dataframe tbody tr th {\n",
       "        vertical-align: top;\n",
       "    }\n",
       "\n",
       "    .dataframe thead th {\n",
       "        text-align: right;\n",
       "    }\n",
       "</style>\n",
       "<table border=\"1\" class=\"dataframe\">\n",
       "  <thead>\n",
       "    <tr style=\"text-align: right;\">\n",
       "      <th></th>\n",
       "      <th>_id</th>\n",
       "      <th>label</th>\n",
       "    </tr>\n",
       "  </thead>\n",
       "  <tbody>\n",
       "    <tr>\n",
       "      <th>0</th>\n",
       "      <td>15350</td>\n",
       "      <td>1.0</td>\n",
       "    </tr>\n",
       "    <tr>\n",
       "      <th>1</th>\n",
       "      <td>18779</td>\n",
       "      <td>1.0</td>\n",
       "    </tr>\n",
       "    <tr>\n",
       "      <th>2</th>\n",
       "      <td>15935</td>\n",
       "      <td>1.0</td>\n",
       "    </tr>\n",
       "  </tbody>\n",
       "</table>\n",
       "</div>"
      ],
      "text/plain": [
       "     _id  label\n",
       "0  15350  1.0  \n",
       "1  18779  1.0  \n",
       "2  15935  1.0  "
      ]
     },
     "execution_count": 89,
     "metadata": {},
     "output_type": "execute_result"
    }
   ],
   "source": [
    "# get labels from csv\n",
    "df_labels = pd.read_csv('/content/labels.csv')\n",
    "df_labels.head(3)"
   ]
  },
  {
   "cell_type": "code",
   "execution_count": null,
   "metadata": {
    "id": "nLLeV4hlFFNn"
   },
   "outputs": [],
   "source": [
    "# join with dataframe\n",
    "df_pd = df_pd.join(df_labels.set_index('_id'), on='_id')\n",
    "df_pd = "
   ]
  },
  {
   "cell_type": "markdown",
   "metadata": {
    "id": "LI--j_CMD5x5"
   },
   "source": [
    "Prepare For Modeling"
   ]
  },
  {
   "cell_type": "code",
   "execution_count": null,
   "metadata": {
    "id": "Y-lsMFkpTa3z"
   },
   "outputs": [],
   "source": [
    "# Take sample of data as not enough RAM to process distance matrix of full dataset\n",
    "df_samp = df_pd.sample(frac=.5)\n",
    "# remove columns\n",
    "toRemove = ['created_at','text','screen_name','followers_count','friends_count','name','twitter_id']\n",
    "df_samp = df_samp.drop(toRemove, axis=1)\n",
    "# save as csv\n",
    "df_samp.to_csv('samp3_3.csv', index=False)"
   ]
  },
  {
   "cell_type": "code",
   "execution_count": 5,
   "metadata": {
    "id": "wvHoiifJOWfE"
   },
   "outputs": [],
   "source": [
    "# retrieve csv\n",
    "# provided samp3.csv file was used to compile results below\n",
    "df_samp3 = pd.read_csv('/content/samp3_3.csv')\n",
    "# remove null data from clnNoMent column\n",
    "df_samp = df_samp3[df_samp3['clnNoMent'].notna()]"
   ]
  },
  {
   "cell_type": "code",
   "execution_count": 6,
   "metadata": {
    "id": "3poLPwRsf072"
   },
   "outputs": [],
   "source": [
    "# create dataframe for classification\n",
    "df_class = df_samp.dropna()\n",
    "# create dataframe for clustering\n",
    "df_clus = df_samp[df_samp.filt > 1]"
   ]
  },
  {
   "cell_type": "markdown",
   "metadata": {
    "id": "4pSnYNUybCRC"
   },
   "source": [
    "Metric Evaluation/Printing Functions"
   ]
  },
  {
   "cell_type": "code",
   "execution_count": 7,
   "metadata": {
    "id": "CYl6GjqV0Edf"
   },
   "outputs": [],
   "source": [
    "# function to display 2 decimals of float\n",
    "def two_d(num):\n",
    "  return (\"{:.2f}\".format(num))\n",
    "\n",
    "# function to print precision, recall, fpr, and f1 score\n",
    "def print_eval(fp, fn, tp, tn):\n",
    "  precision = tp / (tp + fp)\n",
    "  print('Precision: '+two_d(precision))\n",
    "  recall = tp / (tp + fn)\n",
    "  print('Recall: '+two_d(recall))\n",
    "  fprr = fp / (fp + tn)\n",
    "  print('False Positive Rate: '+two_d(fprr))\n",
    "  f1 = 2*((precision * recall) / (precision + recall))\n",
    "  print('F1: '+two_d(f1)) \n",
    "\n",
    "# second function to print precision, recall, f1, and accuracy\n",
    "def eval_metrics(p_labels,t_labels):\n",
    "  pre = precision_score(p_labels,t_labels)\n",
    "  rec = recall_score(p_labels,t_labels)\n",
    "  f1 = f1_score(p_labels,t_labels)\n",
    "  acc = accuracy_score(p_labels,t_labels)\n",
    "  return pre, rec, f1, acc\n",
    "\n",
    "# for repeated printing\n",
    "def eval_metrics_print(pr, re, fone, ac):\n",
    "  print('Precision: '+two_d(pr))\n",
    "  print('Recall: '+two_d(re))\n",
    "  print('F1: '+two_d(fone))\n",
    "  print('Accuracy: '+two_d(ac))"
   ]
  },
  {
   "cell_type": "markdown",
   "metadata": {
    "id": "oa_J6Z0uSvcG"
   },
   "source": [
    "**Rigid Filter**"
   ]
  },
  {
   "cell_type": "markdown",
   "metadata": {
    "id": "MM47KjDafl69"
   },
   "source": [
    "Rigid Filter Evaluation"
   ]
  },
  {
   "cell_type": "code",
   "execution_count": 8,
   "metadata": {
    "id": "gXWnqglRSnYR"
   },
   "outputs": [],
   "source": [
    "# compile dataframe for rows with label\n",
    "dfRigidFilt = spark.createDataFrame(df_samp).na.drop()"
   ]
  },
  {
   "cell_type": "code",
   "execution_count": 9,
   "metadata": {
    "id": "rBthRjgoXNjn"
   },
   "outputs": [],
   "source": [
    "# get labels and predictions\n",
    "labels = dfRigidFilt.select('label').rdd.flatMap(lambda x: x).collect()\n",
    "preds = [1 if x > 1 else 0 for x in dfRigidFilt.select('filt').rdd.flatMap(lambda x: x).collect()]"
   ]
  },
  {
   "cell_type": "code",
   "execution_count": 10,
   "metadata": {
    "colab": {
     "base_uri": "https://localhost:8080/"
    },
    "id": "XXRbs9LFZNcw",
    "outputId": "d86a1339-73ee-498d-95da-99c847eca2db"
   },
   "outputs": [
    {
     "name": "stdout",
     "output_type": "stream",
     "text": [
      "Precision: 0.63\n",
      "Recall: 0.74\n",
      "F1: 0.68\n",
      "Accuracy: 0.93\n"
     ]
    }
   ],
   "source": [
    "# metrics\n",
    "rftpre, rftrec, rftf1, rftacc = eval_metrics(labels, preds)\n",
    "eval_metrics_print(rftpre, rftrec, rftf1, rftacc)"
   ]
  },
  {
   "cell_type": "markdown",
   "metadata": {
    "id": "5ArTtlIBJldd"
   },
   "source": [
    "Rigid Filter Evaluation on Remaining Dataset"
   ]
  },
  {
   "cell_type": "code",
   "execution_count": 11,
   "metadata": {
    "id": "Bd0oMYhUJrcd"
   },
   "outputs": [],
   "source": [
    "# compile dataframe\n",
    "dfRigidFiltFull = spark.createDataFrame(df_samp)"
   ]
  },
  {
   "cell_type": "code",
   "execution_count": 12,
   "metadata": {
    "id": "s59LwHxGb8S7"
   },
   "outputs": [],
   "source": [
    "# get labels and predictions\n",
    "labelsF = dfRigidFiltFull.select('match2022').rdd.flatMap(lambda x: x).collect()\n",
    "predsF = [1 if x > 1 else 0 for x in dfRigidFiltFull.select(\"filt\").rdd.flatMap(lambda x: x).collect()]"
   ]
  },
  {
   "cell_type": "code",
   "execution_count": 13,
   "metadata": {
    "colab": {
     "base_uri": "https://localhost:8080/"
    },
    "id": "qlmuKWsKcH3R",
    "outputId": "e4b1b167-f670-434e-f0c9-7fb463e99d36"
   },
   "outputs": [
    {
     "name": "stdout",
     "output_type": "stream",
     "text": [
      "Precision: 0.63\n",
      "Recall: 0.74\n",
      "F1: 0.68\n",
      "Accuracy: 0.93\n"
     ]
    }
   ],
   "source": [
    "# metrics\n",
    "rftpr, rftre, rftf, rftac = eval_metrics(labelsF, predsF)\n",
    "eval_metrics_print(rftpre, rftrec, rftf1, rftacc)"
   ]
  },
  {
   "cell_type": "markdown",
   "metadata": {
    "id": "nvbcZ9y1OP_l"
   },
   "source": [
    "**DBSCAN Clustering**"
   ]
  },
  {
   "cell_type": "markdown",
   "metadata": {
    "id": "gB4j875OSxhJ"
   },
   "source": [
    "DBS Modeling"
   ]
  },
  {
   "cell_type": "code",
   "execution_count": 14,
   "metadata": {
    "id": "OKsc8FcUORcU"
   },
   "outputs": [],
   "source": [
    "# create features\n",
    "tfidf_vectorizer = TfidfVectorizer(decode_error ='ignore', stop_words='english', min_df=20, ngram_range=(1,1))\n",
    "# fit+transform data and create array\n",
    "tfidf_matrix = tfidf_vectorizer.fit_transform(df_clus['clnNoMent']).toarray()\n",
    "# find the cosine distance between documents\n",
    "distance_array = pairwise_distances(tfidf_matrix, metric='cosine')\n",
    "# cluster with epsilon = 0.5 and minimum samples = 50\n",
    "clustering = DBSCAN(eps=.5, min_samples=50, metric='precomputed').fit(distance_array)\n",
    "# create labels\n",
    "df_clus['labelDBSCAN'] = clustering.labels_\n",
    "df_clus['labelDBSCANConv'] = np.minimum(1,df_clus['labelDBSCAN']+1)"
   ]
  },
  {
   "cell_type": "markdown",
   "metadata": {
    "id": "BrWnpGgFXaBX"
   },
   "source": [
    "DBS Evaluation"
   ]
  },
  {
   "cell_type": "code",
   "execution_count": 15,
   "metadata": {
    "colab": {
     "base_uri": "https://localhost:8080/"
    },
    "id": "-3xtiBeFXfYL",
    "outputId": "c635b673-9f49-4536-a3aa-2a47ea3e64f6"
   },
   "outputs": [
    {
     "name": "stdout",
     "output_type": "stream",
     "text": [
      "Precision: 0.71\n",
      "Recall: 0.74\n",
      "F1: 0.73\n",
      "Accuracy: 0.65\n"
     ]
    }
   ],
   "source": [
    "# metrics\n",
    "dbspre, dbsrec, dbsf1, dbsacc = eval_metrics(df_clus[(df_clus.label == 0) | (df_clus.label == 1)]['label'], \n",
    "                                             df_clus[(df_clus.label == 0) | (df_clus.label == 1)]['labelDBSCANConv'])\n",
    "eval_metrics_print(dbspre, dbsrec, dbsf1, dbsacc)"
   ]
  },
  {
   "cell_type": "markdown",
   "metadata": {
    "id": "z5gJfnnPKKby"
   },
   "source": [
    "DBSCAN Evaluation on Remaining Dataset"
   ]
  },
  {
   "cell_type": "code",
   "execution_count": 16,
   "metadata": {
    "id": "8ncX3ktWPqL3"
   },
   "outputs": [],
   "source": [
    "# create df of rigidly filtered data\n",
    "df_DBSamp = df_samp[df_samp.filt>1]"
   ]
  },
  {
   "cell_type": "code",
   "execution_count": 17,
   "metadata": {
    "id": "CdLg_TI5Nt-7"
   },
   "outputs": [],
   "source": [
    "# fit+transform data and create array\n",
    "tfidf_matrixN = tfidf_vectorizer.fit_transform(df_DBSamp['clnNoMent']).toarray()\n",
    "# find the cosine distance between documents\n",
    "distance_arrayN = pairwise_distances(tfidf_matrixN, metric='cosine')\n",
    "# cluster with epsilon = 0.5 and minimum samples = 50\n",
    "clusteringN = DBSCAN(eps=.5, min_samples=50, metric='precomputed').fit(distance_array)\n",
    "# create labels\n",
    "df_DBSamp['labelDBSCAN'] = clusteringN.labels_\n",
    "df_DBSamp['labelDBSCANConv'] = np.minimum(1,df_DBSamp['labelDBSCAN']+1)"
   ]
  },
  {
   "cell_type": "code",
   "execution_count": 18,
   "metadata": {
    "colab": {
     "base_uri": "https://localhost:8080/"
    },
    "id": "IusMOqF9KKbz",
    "outputId": "1b4205fa-0a7d-4dfd-83ee-70550277389b"
   },
   "outputs": [
    {
     "name": "stdout",
     "output_type": "stream",
     "text": [
      "Precision: 0.33\n",
      "Recall: 0.72\n",
      "F1: 0.45\n",
      "Accuracy: 0.45\n"
     ]
    }
   ],
   "source": [
    "# metrics\n",
    "dbspr, dbsre, dbsf, dbsac = eval_metrics(df_DBSamp['match2022'], df_DBSamp['labelDBSCANConv'])\n",
    "eval_metrics_print(dbspr, dbsre, dbsf, dbsac)"
   ]
  },
  {
   "cell_type": "markdown",
   "metadata": {
    "id": "My1CXClJf2qJ"
   },
   "source": [
    "**Classification**"
   ]
  },
  {
   "cell_type": "markdown",
   "metadata": {
    "id": "tdecavRR4BTK"
   },
   "source": [
    "70/30 Split"
   ]
  },
  {
   "cell_type": "code",
   "execution_count": 19,
   "metadata": {
    "id": "6B3UqktkT4O4"
   },
   "outputs": [],
   "source": [
    "# create 70/30 data split using df['clnNoMent'] and df['label']\n",
    "# random state 2 because 2 is the best integer\n",
    "x_train, x_test, y_train, y_test = train_test_split(df_class['clnNoMent'], df_class['label'], test_size=0.3, random_state=2)"
   ]
  },
  {
   "cell_type": "markdown",
   "metadata": {
    "id": "MWGcOyedcgla"
   },
   "source": [
    "**KNN Classification**"
   ]
  },
  {
   "cell_type": "markdown",
   "metadata": {
    "id": "FlpFMPy1T1Xm"
   },
   "source": [
    "Modeling/Pipeline"
   ]
  },
  {
   "cell_type": "code",
   "execution_count": 20,
   "metadata": {
    "id": "xa9J2CI0T2O2"
   },
   "outputs": [],
   "source": [
    "# create pipline\n",
    "# I left many of the arguments in to adjust while fine tuning all models\n",
    "# Slightly surprisingly, the min_df=1 and ngram_range(1,1) produced the best results in the classification algorithms\n",
    "knn_pipeline = Pipeline([('tfidf', TfidfVectorizer(decode_error ='ignore',min_df=1,ngram_range=(1,1))), ('clf', KNeighborsClassifier())])\n",
    "\n",
    "# run data through pipeline\n",
    "knn_pipeline = knn_pipeline.fit(x_train, y_train)\n",
    "\n",
    "# get test labels\n",
    "predicted_knn = knn_pipeline.predict(x_test)"
   ]
  },
  {
   "cell_type": "markdown",
   "metadata": {
    "id": "y3naY9LGcrwk"
   },
   "source": [
    "KNN Evaluation"
   ]
  },
  {
   "cell_type": "code",
   "execution_count": 21,
   "metadata": {
    "colab": {
     "base_uri": "https://localhost:8080/"
    },
    "id": "sthl06oKbqaU",
    "outputId": "74d74c25-03a7-4b68-e3a7-31c44bd80f04"
   },
   "outputs": [
    {
     "name": "stdout",
     "output_type": "stream",
     "text": [
      "Precision: 0.82\n",
      "Recall: 0.56\n",
      "F1: 0.67\n",
      "Accuracy: 0.95\n",
      "AUC ROC: 0.86\n"
     ]
    }
   ],
   "source": [
    "# metrics\n",
    "knnpre, knnrec, knnf1, knnacc = eval_metrics(y_test, predicted_knn)\n",
    "eval_metrics_print(knnpre, knnrec, knnf1, knnacc)\n",
    "\n",
    "# AUC ROC\n",
    "knn_prob = knn_pipeline.predict_proba(x_test)\n",
    "knn_roc_auc_score = roc_auc_score(y_test, knn_prob[:,1])\n",
    "print('AUC ROC: '+two_d(knn_roc_auc_score))"
   ]
  },
  {
   "cell_type": "markdown",
   "metadata": {
    "id": "MF3ebtXgcxuP"
   },
   "source": [
    "KNN Cross Eval"
   ]
  },
  {
   "cell_type": "code",
   "execution_count": 22,
   "metadata": {
    "colab": {
     "base_uri": "https://localhost:8080/"
    },
    "id": "KPdNg8xHy-Yt",
    "outputId": "ea0a7590-b3a6-4489-d35a-556fc501e20a"
   },
   "outputs": [
    {
     "name": "stdout",
     "output_type": "stream",
     "text": [
      "[0.5625     0.35714286 0.31578947 0.3        0.24137931 0.42857143\n",
      " 0.35294118 0.2962963  0.38888889 0.15789474]\n",
      "Avg KNN Recall Cross Val: 0.34\n",
      "[0.81818182 0.55555556 0.75       0.6        0.875      0.75\n",
      " 0.66666667 1.         0.875      0.6       ]\n",
      "Avg KNN Precision Cross Val: 0.75\n",
      "[0.66666667 0.43478261 0.44444444 0.4        0.37837838 0.54545455\n",
      " 0.46153846 0.45714286 0.53846154 0.25      ]\n",
      "Avg KNN F1 Cross Val: 0.46\n"
     ]
    }
   ],
   "source": [
    "from sklearn.model_selection import ShuffleSplit\n",
    "cv = ShuffleSplit(n_splits=10, test_size=0.3, random_state=2)\n",
    "knn_rec_scores = cross_val_score(knn_pipeline,df_class['clnNoMent'], df_class['label'],cv=cv,  scoring='recall')\n",
    "print(knn_rec_scores)\n",
    "print('Avg KNN Recall Cross Val: '+two_d(np.mean(knn_rec_scores)))\n",
    "knn_prec_scores = cross_val_score(knn_pipeline,df_class['clnNoMent'], df_class['label'],cv=cv,  scoring='precision')\n",
    "print(knn_prec_scores)\n",
    "print('Avg KNN Precision Cross Val: '+two_d(np.mean(knn_prec_scores)))\n",
    "knn_f1_scores = cross_val_score(knn_pipeline,df_class['clnNoMent'], df_class['label'],cv=cv,  scoring='f1')\n",
    "print(knn_f1_scores)\n",
    "print('Avg KNN F1 Cross Val: '+two_d(np.mean(knn_f1_scores)))"
   ]
  },
  {
   "cell_type": "code",
   "execution_count": 23,
   "metadata": {
    "colab": {
     "base_uri": "https://localhost:8080/"
    },
    "id": "YI7xb72L42Jn",
    "outputId": "b82edff3-f429-4784-b2cf-c3cc0ca90348"
   },
   "outputs": [
    {
     "name": "stdout",
     "output_type": "stream",
     "text": [
      "0.88\n",
      "0.12\n"
     ]
    }
   ],
   "source": [
    "from sklearn.model_selection import ShuffleSplit\n",
    "from sklearn.model_selection import cross_val_predict\n",
    "knn_cv_preds = cross_val_predict(knn_pipeline,df_class['clnNoMent'], df_class['label'],cv=10,  method='predict_proba')\n",
    "print(two_d(np.mean(knn_cv_preds[:,0])))\n",
    "print(two_d(np.mean(knn_cv_preds[:,1])))"
   ]
  },
  {
   "cell_type": "markdown",
   "metadata": {
    "id": "QH3UJsJ_QTl4"
   },
   "source": [
    "KNN Evaluation on Remaining Dataset"
   ]
  },
  {
   "cell_type": "code",
   "execution_count": 24,
   "metadata": {
    "id": "YjfBrApwedsa"
   },
   "outputs": [],
   "source": [
    "# compile labels and probs for df_samp\n",
    "all_knn_labels = knn_pipeline.predict(df_samp['clnNoMent'])\n",
    "all_knn_prob = knn_pipeline.predict_proba(df_samp['clnNoMent'])\n",
    "df_samp['knn_labels'] = all_knn_labels\n",
    "df_samp['knn_prob'] = all_knn_prob[:,1]\n",
    "knn_labels = df_samp['knn_labels']\n",
    "knn_prob = df_samp['knn_prob']"
   ]
  },
  {
   "cell_type": "code",
   "execution_count": 25,
   "metadata": {
    "colab": {
     "base_uri": "https://localhost:8080/"
    },
    "id": "yDXDYEDxQTl5",
    "outputId": "01797660-d2c7-4024-ec85-88b41432f2d9"
   },
   "outputs": [
    {
     "name": "stdout",
     "output_type": "stream",
     "text": [
      "Precision: 0.38\n",
      "Recall: 0.61\n",
      "F1: 0.46\n",
      "Accuracy: 0.97\n",
      "AUC ROC: 0.93\n"
     ]
    }
   ],
   "source": [
    "# metrics\n",
    "knnpr, knnre, knnf, knnac = eval_metrics(df_samp['match2022'], knn_labels)\n",
    "eval_metrics_print(knnpr, knnre, knnf, knnac)\n",
    "\n",
    "# AUC ROC\n",
    "knn_roc_auc_scor = roc_auc_score(df_samp['match2022'], df_samp['knn_prob'])\n",
    "print('AUC ROC: '+two_d(knn_roc_auc_scor))"
   ]
  },
  {
   "cell_type": "markdown",
   "metadata": {
    "id": "TzPzcsmpcvpl"
   },
   "source": [
    "**SVM Classification**"
   ]
  },
  {
   "cell_type": "markdown",
   "metadata": {
    "id": "cTxK5a_GfNj_"
   },
   "source": [
    "SVM Model/Pipeline"
   ]
  },
  {
   "cell_type": "code",
   "execution_count": 26,
   "metadata": {
    "id": "SELuOmMXZkqR"
   },
   "outputs": [],
   "source": [
    "# create pipeline\n",
    "svm_pipeline = Pipeline([('tfidf', TfidfVectorizer(decode_error ='ignore',stop_words='english',ngram_range=(1,1))), ('cls', SVC(kernel='linear', probability=True))])\n",
    "\n",
    "# run data through pipeline\n",
    "svm_pipeline = svm_pipeline.fit(x_train, y_train)\n",
    "\n",
    "# get test labels\n",
    "predicted_svm = svm_pipeline.predict(x_test)"
   ]
  },
  {
   "cell_type": "markdown",
   "metadata": {
    "id": "Zyk9GSzxfGHH"
   },
   "source": [
    "SVM Evaluation"
   ]
  },
  {
   "cell_type": "code",
   "execution_count": 27,
   "metadata": {
    "colab": {
     "base_uri": "https://localhost:8080/"
    },
    "id": "ukcYzA6efHhs",
    "outputId": "64b66315-2089-41ff-a785-ae29eeb58dea"
   },
   "outputs": [
    {
     "name": "stdout",
     "output_type": "stream",
     "text": [
      "Precision: 1.00\n",
      "Recall: 0.50\n",
      "F1: 0.67\n",
      "Accuracy: 0.95\n",
      "AUC ROC: 0.96\n"
     ]
    }
   ],
   "source": [
    "# metrics\n",
    "svmpre, svmrec, svmf1, svmacc = eval_metrics(y_test, predicted_svm)\n",
    "eval_metrics_print(svmpre, svmrec, svmf1, svmacc)\n",
    "\n",
    "# AUC ROC\n",
    "svm_prob = svm_pipeline.predict_proba(x_test)\n",
    "svm_roc_auc_score = roc_auc_score(y_test, svm_prob[:,1])\n",
    "print('AUC ROC: '+two_d(svm_roc_auc_score))"
   ]
  },
  {
   "cell_type": "markdown",
   "metadata": {
    "id": "ZnjFKPyIgEc_"
   },
   "source": [
    "SVM Cross Eval"
   ]
  },
  {
   "cell_type": "code",
   "execution_count": 28,
   "metadata": {
    "colab": {
     "base_uri": "https://localhost:8080/"
    },
    "id": "rZPlG9OcgFpf",
    "outputId": "7fa48732-ba6d-4cda-a8b1-9dce8a5b3864"
   },
   "outputs": [
    {
     "name": "stdout",
     "output_type": "stream",
     "text": [
      "[0.5        0.35714286 0.47368421 0.6        0.4137931  0.42857143\n",
      " 0.41176471 0.44444444 0.44444444 0.36842105]\n",
      "SVM Recall Cross Val: 0.44\n",
      "[1.         0.83333333 1.         0.92307692 0.92307692 1.\n",
      " 1.         1.         1.         1.        ]\n",
      "SVM Precision Cross Val: 0.97\n",
      "[0.66666667 0.5        0.64285714 0.72727273 0.57142857 0.6\n",
      " 0.58333333 0.61538462 0.61538462 0.53846154]\n",
      "SVM F1 Cross Val: 0.61\n"
     ]
    }
   ],
   "source": [
    "from sklearn.model_selection import ShuffleSplit\n",
    "svm_rec_scores = cross_val_score(svm_pipeline,df_class['clnNoMent'], df_class['label'],cv=cv,  scoring='recall')\n",
    "print(svm_rec_scores)\n",
    "print('SVM Recall Cross Val: '+two_d(np.mean(svm_rec_scores)))\n",
    "svm_prec_scores = cross_val_score(svm_pipeline,df_class['clnNoMent'], df_class['label'],cv=cv,  scoring='precision')\n",
    "print(svm_prec_scores)\n",
    "print('SVM Precision Cross Val: '+two_d(np.mean(svm_prec_scores)))\n",
    "svm_f1_scores = cross_val_score(svm_pipeline,df_class['clnNoMent'], df_class['label'],cv=cv,  scoring='f1')\n",
    "print(svm_f1_scores)\n",
    "print('SVM F1 Cross Val: '+two_d(np.mean(svm_f1_scores)))"
   ]
  },
  {
   "cell_type": "code",
   "execution_count": 29,
   "metadata": {
    "colab": {
     "base_uri": "https://localhost:8080/"
    },
    "id": "FF2V1uEmR2_W",
    "outputId": "fd967696-c298-41d8-8cae-3f35e0c8590a"
   },
   "outputs": [
    {
     "name": "stdout",
     "output_type": "stream",
     "text": [
      "0.88\n",
      "0.12\n"
     ]
    }
   ],
   "source": [
    "from sklearn.model_selection import ShuffleSplit\n",
    "from sklearn.model_selection import cross_val_predict\n",
    "svm_cv_preds = cross_val_predict(svm_pipeline,df_class['clnNoMent'], df_class['label'],cv=10,  method='predict_proba')\n",
    "print(two_d(np.mean(svm_cv_preds[:,0])))\n",
    "print(two_d(np.mean(svm_cv_preds[:,1])))"
   ]
  },
  {
   "cell_type": "markdown",
   "metadata": {
    "id": "JFz0nch7Rdgx"
   },
   "source": [
    "SVM Evaluation on Remaining Dataset"
   ]
  },
  {
   "cell_type": "code",
   "execution_count": 30,
   "metadata": {
    "id": "pZ1lGwNkf6jx"
   },
   "outputs": [],
   "source": [
    "# compile labels and probs for df_samp\n",
    "all_svm_labels = svm_pipeline.predict(df_samp['clnNoMent'])\n",
    "all_svm_prob = svm_pipeline.predict_proba(df_samp['clnNoMent'])\n",
    "df_samp['svm_labels'] = all_svm_labels\n",
    "df_samp['svm_prob'] = all_svm_prob[:,1]\n",
    "svm_labels = df_samp['svm_labels']\n",
    "svm_prob = df_samp['svm_prob']"
   ]
  },
  {
   "cell_type": "code",
   "execution_count": 31,
   "metadata": {
    "colab": {
     "base_uri": "https://localhost:8080/"
    },
    "id": "DN-mN6wcRqSD",
    "outputId": "563a1e6a-8bbf-4097-e2d8-95a98e2e3fe4"
   },
   "outputs": [
    {
     "name": "stdout",
     "output_type": "stream",
     "text": [
      "Precision: 0.79\n",
      "Recall: 0.86\n",
      "F1: 0.83\n",
      "Accuracy: 0.99\n",
      "AUC ROC: 0.99\n"
     ]
    }
   ],
   "source": [
    "# metrics\n",
    "svmpr, svmre, svmf, svmac = eval_metrics(df_samp['match2022'], svm_labels)\n",
    "eval_metrics_print(svmpr, svmre, svmf, svmac)\n",
    "\n",
    "# AUC ROC\n",
    "svm_roc_auc_scor = roc_auc_score(df_samp['match2022'], df_samp['svm_prob'])\n",
    "print('AUC ROC: '+two_d(svm_roc_auc_scor))"
   ]
  },
  {
   "cell_type": "markdown",
   "metadata": {
    "id": "Nm3JN-gPti8H"
   },
   "source": [
    "**Additional Modeling Completed in ProjectSupplementary.ipynb**"
   ]
  },
  {
   "cell_type": "markdown",
   "metadata": {
    "id": "-S50w4tgYi7v"
   },
   "source": [
    "**Logistic Regression Classification**\n",
    "\n",
    "Done in other provided notebook for pyspark envinronment"
   ]
  },
  {
   "cell_type": "code",
   "execution_count": 32,
   "metadata": {
    "id": "UoBBgvmUaeK_"
   },
   "outputs": [],
   "source": [
    "lrgpre = 0.6667\n",
    "lrgrec = 0.2857\n",
    "lrgf1 = 0.4000\n",
    "lrgacc = 0.9259\n",
    "lrg_roc_auc_score = 0.8359"
   ]
  },
  {
   "cell_type": "markdown",
   "metadata": {
    "id": "YGp8cKk1tp0K"
   },
   "source": [
    "**PySpark SVM Classification**"
   ]
  },
  {
   "cell_type": "markdown",
   "metadata": {
    "id": "GYOIW-xDtxMF"
   },
   "source": [
    "I cannot find any information as to why the results are so poor compared to other SVM model. I believe the tf function is different in both environments."
   ]
  },
  {
   "cell_type": "code",
   "execution_count": 33,
   "metadata": {
    "id": "mQUiz-3htwp6"
   },
   "outputs": [],
   "source": [
    "svm2pre = 0.8571\n",
    "svm2rec = 0.4286\n",
    "svm2f1 = 0.5714\n",
    "svm2acc = 0.9444"
   ]
  },
  {
   "cell_type": "code",
   "execution_count": 34,
   "metadata": {
    "id": "6md3f5pZ3SWS"
   },
   "outputs": [],
   "source": [
    "svm2pr = 0.4329\n",
    "svm2re = 0.5837\n",
    "svm2f = 0.4971\n",
    "svm2ac = 0.9771"
   ]
  },
  {
   "cell_type": "code",
   "execution_count": 35,
   "metadata": {
    "id": "B4SgxyLT0joE"
   },
   "outputs": [],
   "source": [
    "# read in PySp SVM results to dataframe\n",
    "pySVM = sqlContext.read.format('csv').option('delimiter',',').option('header','true').load('/content/PySpSVMResults.csv')"
   ]
  },
  {
   "cell_type": "markdown",
   "metadata": {
    "id": "2qNsYMqTV6tS"
   },
   "source": [
    "**Model Comparison**"
   ]
  },
  {
   "cell_type": "code",
   "execution_count": null,
   "metadata": {
    "colab": {
     "base_uri": "https://localhost:8080/",
     "height": 185
    },
    "id": "8qb6lQcmhDBH",
    "outputId": "ed18f803-e016-4d26-df34-0d1de6856170"
   },
   "outputs": [
    {
     "name": "stdout",
     "output_type": "stream",
     "text": [
      "+---------+------+--------+-----+-------+\n",
      "|Precision|Recall|Accuracy|   F1|AUC ROC|\n",
      "+---------+------+--------+-----+-------+\n",
      "|    0.632| 0.741|   0.929|0.683|   null|\n",
      "+---------+------+--------+-----+-------+\n",
      "\n"
     ]
    },
    {
     "data": {
      "text/html": [
       "<div>\n",
       "<style scoped>\n",
       "    .dataframe tbody tr th:only-of-type {\n",
       "        vertical-align: middle;\n",
       "    }\n",
       "\n",
       "    .dataframe tbody tr th {\n",
       "        vertical-align: top;\n",
       "    }\n",
       "\n",
       "    .dataframe thead th {\n",
       "        text-align: right;\n",
       "    }\n",
       "</style>\n",
       "<table border=\"1\" class=\"dataframe\">\n",
       "  <thead>\n",
       "    <tr style=\"text-align: right;\">\n",
       "      <th></th>\n",
       "      <th>Precision</th>\n",
       "      <th>Recall</th>\n",
       "      <th>Accuracy</th>\n",
       "      <th>F1</th>\n",
       "      <th>AUC ROC</th>\n",
       "    </tr>\n",
       "  </thead>\n",
       "  <tbody>\n",
       "    <tr>\n",
       "      <th>Rigid Filter (RFT)</th>\n",
       "      <td>0.632</td>\n",
       "      <td>0.741</td>\n",
       "      <td>0.929</td>\n",
       "      <td>0.683</td>\n",
       "      <td>N/A</td>\n",
       "    </tr>\n",
       "  </tbody>\n",
       "</table>\n",
       "</div>"
      ],
      "text/plain": [
       "                    Precision  Recall  Accuracy     F1 AUC ROC\n",
       "Rigid Filter (RFT)  0.632      0.741   0.929     0.683  N/A   "
      ]
     },
     "execution_count": 49,
     "metadata": {},
     "output_type": "execute_result"
    }
   ],
   "source": [
    "from pyspark.sql.functions import avg, round\n",
    "\n",
    "# Compile comparison of evaluation metrics\n",
    "rigid_comp = {'Precision':[rftpre],'Recall':[rftrec],'Accuracy':[rftacc],'F1':[rftf1], 'AUC ROC': ['N/A']}\n",
    "rigid_comp_df  = pd.DataFrame(data=rigid_comp,index=['Rigid Filter (RFT)'])\n",
    "rigid_comp_psdf=spark.createDataFrame(rigid_comp_df)\n",
    "rigid_comp_psdf.select([round((v), 3).alias(v) for v in rigid_comp_psdf.columns]).show()\n",
    "rigid_comp_df.round(3)"
   ]
  },
  {
   "cell_type": "code",
   "execution_count": 41,
   "metadata": {
    "colab": {
     "base_uri": "https://localhost:8080/",
     "height": 185
    },
    "id": "UJVNE49KxxSb",
    "outputId": "f0fa2288-0032-44b4-e993-7e1e474d963d"
   },
   "outputs": [
    {
     "name": "stdout",
     "output_type": "stream",
     "text": [
      "+------------------+------------------+------------------+------------------+-------+\n",
      "|         Precision|            Recall|          Accuracy|                F1|AUC ROC|\n",
      "+------------------+------------------+------------------+------------------+-------+\n",
      "|0.7111111111111111|0.7441860465116279|0.6470588235294118|0.7272727272727273|    NaN|\n",
      "+------------------+------------------+------------------+------------------+-------+\n",
      "\n"
     ]
    },
    {
     "data": {
      "text/html": [
       "<div>\n",
       "<style scoped>\n",
       "    .dataframe tbody tr th:only-of-type {\n",
       "        vertical-align: middle;\n",
       "    }\n",
       "\n",
       "    .dataframe tbody tr th {\n",
       "        vertical-align: top;\n",
       "    }\n",
       "\n",
       "    .dataframe thead th {\n",
       "        text-align: right;\n",
       "    }\n",
       "</style>\n",
       "<table border=\"1\" class=\"dataframe\">\n",
       "  <thead>\n",
       "    <tr style=\"text-align: right;\">\n",
       "      <th></th>\n",
       "      <th>Precision</th>\n",
       "      <th>Recall</th>\n",
       "      <th>Accuracy</th>\n",
       "      <th>F1</th>\n",
       "      <th>AUC ROC</th>\n",
       "    </tr>\n",
       "  </thead>\n",
       "  <tbody>\n",
       "    <tr>\n",
       "      <th>DBSCAN (DBS)</th>\n",
       "      <td>0.711</td>\n",
       "      <td>0.744</td>\n",
       "      <td>0.647</td>\n",
       "      <td>0.727</td>\n",
       "      <td>NaN</td>\n",
       "    </tr>\n",
       "  </tbody>\n",
       "</table>\n",
       "</div>"
      ],
      "text/plain": [
       "              Precision  Recall  Accuracy     F1  AUC ROC\n",
       "DBSCAN (DBS)  0.711      0.744   0.647     0.727 NaN     "
      ]
     },
     "execution_count": 41,
     "metadata": {},
     "output_type": "execute_result"
    }
   ],
   "source": [
    "unsupervised_comp = {'Precision':[dbspre],'Recall':[dbsrec],'Accuracy':[dbsacc],'F1':[dbsf1], 'AUC ROC': [np.nan]}\n",
    "unsupervised_comp_df  = pd.DataFrame(data=unsupervised_comp,index=['DBSCAN (DBS)'])\n",
    "unsupervised_comp_psdf=spark.createDataFrame(unsupervised_comp_df)\n",
    "unsupervised_comp_psdf.show() #select([round((v), 3).alias(v) for v in unsupervised_comp_psdf.columns]).show() - started creating errors. unsure why.\n",
    "unsupervised_comp_df.round(3)"
   ]
  },
  {
   "cell_type": "code",
   "execution_count": 58,
   "metadata": {
    "colab": {
     "base_uri": "https://localhost:8080/",
     "height": 175
    },
    "id": "jENUPcZpxxwS",
    "outputId": "75b90efc-753e-4530-c0c7-628f331f0bf4"
   },
   "outputs": [
    {
     "data": {
      "text/html": [
       "<div>\n",
       "<style scoped>\n",
       "    .dataframe tbody tr th:only-of-type {\n",
       "        vertical-align: middle;\n",
       "    }\n",
       "\n",
       "    .dataframe tbody tr th {\n",
       "        vertical-align: top;\n",
       "    }\n",
       "\n",
       "    .dataframe thead th {\n",
       "        text-align: right;\n",
       "    }\n",
       "</style>\n",
       "<table border=\"1\" class=\"dataframe\">\n",
       "  <thead>\n",
       "    <tr style=\"text-align: right;\">\n",
       "      <th></th>\n",
       "      <th>Precision</th>\n",
       "      <th>Recall</th>\n",
       "      <th>Accuracy</th>\n",
       "      <th>F1</th>\n",
       "      <th>AUC ROC</th>\n",
       "    </tr>\n",
       "  </thead>\n",
       "  <tbody>\n",
       "    <tr>\n",
       "      <th>K Nearest Neighbors (KNN)</th>\n",
       "      <td>0.818</td>\n",
       "      <td>0.562</td>\n",
       "      <td>0.947</td>\n",
       "      <td>0.667</td>\n",
       "      <td>0.858</td>\n",
       "    </tr>\n",
       "    <tr>\n",
       "      <th>Support Vector Machine (SVM)</th>\n",
       "      <td>1.000</td>\n",
       "      <td>0.500</td>\n",
       "      <td>0.953</td>\n",
       "      <td>0.667</td>\n",
       "      <td>0.956</td>\n",
       "    </tr>\n",
       "    <tr>\n",
       "      <th>Logistic Regression (LRG)</th>\n",
       "      <td>0.667</td>\n",
       "      <td>0.286</td>\n",
       "      <td>0.926</td>\n",
       "      <td>0.400</td>\n",
       "      <td>0.836</td>\n",
       "    </tr>\n",
       "    <tr>\n",
       "      <th>Logistic Regression (LRG)</th>\n",
       "      <td>0.857</td>\n",
       "      <td>0.429</td>\n",
       "      <td>0.944</td>\n",
       "      <td>0.571</td>\n",
       "      <td>NaN</td>\n",
       "    </tr>\n",
       "  </tbody>\n",
       "</table>\n",
       "</div>"
      ],
      "text/plain": [
       "                              Precision  Recall  Accuracy     F1  AUC ROC\n",
       "K Nearest Neighbors (KNN)     0.818      0.562   0.947     0.667  0.858  \n",
       "Support Vector Machine (SVM)  1.000      0.500   0.953     0.667  0.956  \n",
       "Logistic Regression (LRG)     0.667      0.286   0.926     0.400  0.836  \n",
       "Logistic Regression (LRG)     0.857      0.429   0.944     0.571 NaN     "
      ]
     },
     "execution_count": 58,
     "metadata": {},
     "output_type": "execute_result"
    }
   ],
   "source": [
    "supervised_comp = {'Precision':[knnpre,svmpre,lrgpre,svm2pre],'Recall':[knnrec,svmrec,lrgrec,svm2rec],'Accuracy':[knnacc,svmacc,lrgacc,svm2acc],'F1':[knnf1,svmf1,lrgf1,svm2f1],'AUC ROC': [knn_roc_auc_score,svm_roc_auc_score,lrg_roc_auc_score,np.nan]}\n",
    "supervised_comp_df  = pd.DataFrame(data=supervised_comp,index=['K Nearest Neighbors (KNN)','Support Vector Machine (SVM)','Logistic Regression (LRG)','Logistic Regression (LRG)'])\n",
    "supervised_comp_psdf=spark.createDataFrame(supervised_comp_df)\n",
    "supervised_comp_df.round(3)"
   ]
  },
  {
   "cell_type": "code",
   "execution_count": null,
   "metadata": {
    "colab": {
     "base_uri": "https://localhost:8080/",
     "height": 185
    },
    "id": "Ua3xK1UgzfbY",
    "outputId": "b0fe58d5-edf6-4c76-d41b-c2bf0c25b109"
   },
   "outputs": [
    {
     "name": "stdout",
     "output_type": "stream",
     "text": [
      "+---------+------+--------+-----+-------+\n",
      "|Precision|Recall|Accuracy|   F1|AUC ROC|\n",
      "+---------+------+--------+-----+-------+\n",
      "|    0.317|   1.0|   0.958|0.481|   null|\n",
      "+---------+------+--------+-----+-------+\n",
      "\n"
     ]
    },
    {
     "data": {
      "text/html": [
       "<div>\n",
       "<style scoped>\n",
       "    .dataframe tbody tr th:only-of-type {\n",
       "        vertical-align: middle;\n",
       "    }\n",
       "\n",
       "    .dataframe tbody tr th {\n",
       "        vertical-align: top;\n",
       "    }\n",
       "\n",
       "    .dataframe thead th {\n",
       "        text-align: right;\n",
       "    }\n",
       "</style>\n",
       "<table border=\"1\" class=\"dataframe\">\n",
       "  <thead>\n",
       "    <tr style=\"text-align: right;\">\n",
       "      <th></th>\n",
       "      <th>Precision</th>\n",
       "      <th>Recall</th>\n",
       "      <th>Accuracy</th>\n",
       "      <th>F1</th>\n",
       "      <th>AUC ROC</th>\n",
       "    </tr>\n",
       "  </thead>\n",
       "  <tbody>\n",
       "    <tr>\n",
       "      <th>RFT</th>\n",
       "      <td>0.317</td>\n",
       "      <td>1.0</td>\n",
       "      <td>0.958</td>\n",
       "      <td>0.481</td>\n",
       "      <td>N/A</td>\n",
       "    </tr>\n",
       "  </tbody>\n",
       "</table>\n",
       "</div>"
      ],
      "text/plain": [
       "     Precision  Recall  Accuracy     F1 AUC ROC\n",
       "RFT  0.317      1.0     0.958     0.481  N/A   "
      ]
     },
     "execution_count": 50,
     "metadata": {},
     "output_type": "execute_result"
    }
   ],
   "source": [
    "# Compile comparison of evaluation metrics for full dataset\n",
    "rigid = {'Precision':[rftpr],'Recall':[rftre],'Accuracy':[rftac],'F1':[rftf], 'AUC ROC': ['N/A']}\n",
    "rigid_df  = pd.DataFrame(data=rigid,index=['RFT'])\n",
    "rigid_psdf=spark.createDataFrame(rigid_df)\n",
    "rigid_psdf.select([round((v), 3).alias(v) for v in rigid_psdf.columns]).show(5)\n",
    "rigid_df.round(3)"
   ]
  },
  {
   "cell_type": "code",
   "execution_count": null,
   "metadata": {
    "colab": {
     "base_uri": "https://localhost:8080/",
     "height": 185
    },
    "id": "6-KDD-Iz1JQQ",
    "outputId": "97d84996-2b9b-4f44-aa1d-573d2af8f4d6"
   },
   "outputs": [
    {
     "name": "stdout",
     "output_type": "stream",
     "text": [
      "+---------+------+--------+-----+-------+\n",
      "|Precision|Recall|Accuracy|   F1|AUC ROC|\n",
      "+---------+------+--------+-----+-------+\n",
      "|    0.333| 0.719|   0.453|0.455|   null|\n",
      "+---------+------+--------+-----+-------+\n",
      "\n"
     ]
    },
    {
     "data": {
      "text/html": [
       "<div>\n",
       "<style scoped>\n",
       "    .dataframe tbody tr th:only-of-type {\n",
       "        vertical-align: middle;\n",
       "    }\n",
       "\n",
       "    .dataframe tbody tr th {\n",
       "        vertical-align: top;\n",
       "    }\n",
       "\n",
       "    .dataframe thead th {\n",
       "        text-align: right;\n",
       "    }\n",
       "</style>\n",
       "<table border=\"1\" class=\"dataframe\">\n",
       "  <thead>\n",
       "    <tr style=\"text-align: right;\">\n",
       "      <th></th>\n",
       "      <th>Precision</th>\n",
       "      <th>Recall</th>\n",
       "      <th>Accuracy</th>\n",
       "      <th>F1</th>\n",
       "      <th>AUC ROC</th>\n",
       "    </tr>\n",
       "  </thead>\n",
       "  <tbody>\n",
       "    <tr>\n",
       "      <th>DBSCAN (DBS)</th>\n",
       "      <td>0.333</td>\n",
       "      <td>0.719</td>\n",
       "      <td>0.453</td>\n",
       "      <td>0.455</td>\n",
       "      <td>N/A</td>\n",
       "    </tr>\n",
       "  </tbody>\n",
       "</table>\n",
       "</div>"
      ],
      "text/plain": [
       "              Precision  Recall  Accuracy     F1 AUC ROC\n",
       "DBSCAN (DBS)  0.333      0.719   0.453     0.455  N/A   "
      ]
     },
     "execution_count": 51,
     "metadata": {},
     "output_type": "execute_result"
    }
   ],
   "source": [
    "unsupervised = {'Precision':[dbspr],'Recall':[dbsre],'Accuracy':[dbsac],'F1':[dbsf], 'AUC ROC': ['N/A']}\n",
    "unsupervised_df  = pd.DataFrame(data=unsupervised,index=['DBSCAN (DBS)'])\n",
    "unsupervised_psdf=spark.createDataFrame(unsupervised_df)\n",
    "unsupervised_psdf.select([round((v), 3).alias(v) for v in unsupervised_psdf.columns]).show(5)\n",
    "unsupervised_df.round(3)"
   ]
  },
  {
   "cell_type": "code",
   "execution_count": 60,
   "metadata": {
    "colab": {
     "base_uri": "https://localhost:8080/",
     "height": 143
    },
    "id": "xgYJIegTSEW-",
    "outputId": "4e9ebe41-1000-469a-c99b-f779e71e048b"
   },
   "outputs": [
    {
     "data": {
      "text/html": [
       "<div>\n",
       "<style scoped>\n",
       "    .dataframe tbody tr th:only-of-type {\n",
       "        vertical-align: middle;\n",
       "    }\n",
       "\n",
       "    .dataframe tbody tr th {\n",
       "        vertical-align: top;\n",
       "    }\n",
       "\n",
       "    .dataframe thead th {\n",
       "        text-align: right;\n",
       "    }\n",
       "</style>\n",
       "<table border=\"1\" class=\"dataframe\">\n",
       "  <thead>\n",
       "    <tr style=\"text-align: right;\">\n",
       "      <th></th>\n",
       "      <th>Precision</th>\n",
       "      <th>Recall</th>\n",
       "      <th>Accuracy</th>\n",
       "      <th>F1</th>\n",
       "      <th>AUC ROC</th>\n",
       "    </tr>\n",
       "  </thead>\n",
       "  <tbody>\n",
       "    <tr>\n",
       "      <th>KNN</th>\n",
       "      <td>0.376</td>\n",
       "      <td>0.606</td>\n",
       "      <td>0.973</td>\n",
       "      <td>0.464</td>\n",
       "      <td>0.858</td>\n",
       "    </tr>\n",
       "    <tr>\n",
       "      <th>SVM</th>\n",
       "      <td>0.789</td>\n",
       "      <td>0.864</td>\n",
       "      <td>0.993</td>\n",
       "      <td>0.825</td>\n",
       "      <td>0.990</td>\n",
       "    </tr>\n",
       "    <tr>\n",
       "      <th>PSVM</th>\n",
       "      <td>0.433</td>\n",
       "      <td>0.584</td>\n",
       "      <td>0.977</td>\n",
       "      <td>0.497</td>\n",
       "      <td>NaN</td>\n",
       "    </tr>\n",
       "  </tbody>\n",
       "</table>\n",
       "</div>"
      ],
      "text/plain": [
       "      Precision  Recall  Accuracy     F1  AUC ROC\n",
       "KNN   0.376      0.606   0.973     0.464  0.858  \n",
       "SVM   0.789      0.864   0.993     0.825  0.990  \n",
       "PSVM  0.433      0.584   0.977     0.497 NaN     "
      ]
     },
     "execution_count": 60,
     "metadata": {},
     "output_type": "execute_result"
    }
   ],
   "source": [
    "# Compile comparison of evaluation metrics\n",
    "supervised = {'Precision':[knnpr,svmpr,svm2pr],'Recall':[knnre,svmre,svm2re],'Accuracy':[knnac,svmac,svm2ac],'F1':[knnf,svmf,svm2f],'AUC ROC': [knn_roc_auc_score,svm_roc_auc_scor,np.nan]}\n",
    "supervised_df  = pd.DataFrame(data=supervised,index=['KNN','SVM','PSVM'])\n",
    "supervised_psdf=spark.createDataFrame(supervised_df)\n",
    "supervised_df.round(3)"
   ]
  },
  {
   "cell_type": "code",
   "execution_count": 42,
   "metadata": {
    "id": "3SsS0jNB0FhW"
   },
   "outputs": [],
   "source": [
    "from pyspark.sql.functions import row_number\n",
    "from pyspark.sql import Window\n",
    "\n",
    "# create sparkDF from list\n",
    "def quickDF(values,c_name):\n",
    "  return(sqlContext.createDataFrame([(i,) for i in values], [c_name]))\n",
    "\n",
    "# join two sparkDFs\n",
    "def quickDFJoin(df1,df2):\n",
    "  df1 = df1.withColumn(\"row_idx\", row_number().over(Window.orderBy(monotonically_increasing_id())))\n",
    "  df2 = df2.withColumn(\"row_idx\", row_number().over(Window.orderBy(monotonically_increasing_id())))\n",
    "  return(df1.join(df2, df1.row_idx == df2.row_idx).drop(\"row_idx\"))"
   ]
  },
  {
   "cell_type": "code",
   "execution_count": 43,
   "metadata": {
    "id": "M1YeCpqs27l1"
   },
   "outputs": [],
   "source": [
    "# combine all results in single dataframe\n",
    "comb = quickDFJoin(dfRigidFiltFull,quickDF(predsF,'rft'))\n",
    "comb = quickDFJoin(comb,quickDF(knn_labels,'knn'))\n",
    "comb = quickDFJoin(comb,quickDF(knn_prob,'knn_prob'))\n",
    "comb = quickDFJoin(comb,quickDF(svm_labels,'svm'))\n",
    "comb = quickDFJoin(comb,quickDF(svm_prob,'svm_prob'))\n",
    "comb = quickDFJoin(comb,quickDF(pySVM.select('prediction').rdd.flatMap(lambda x: x).collect(),'psvm'))"
   ]
  },
  {
   "cell_type": "code",
   "execution_count": 44,
   "metadata": {
    "id": "JNXNSWidN78K"
   },
   "outputs": [],
   "source": [
    "# get fpr, tpr, and auc_scores for KNN and SVM\n",
    "fpr1, tpr1, thresh1 = roc_curve(labelsF, knn_prob, pos_label=1)\n",
    "auc_score1 = roc_auc_score(labelsF, knn_prob)\n",
    "fpr2, tpr2, thresh2 = roc_curve(labelsF, svm_prob, pos_label=1)\n",
    "auc_score2 = roc_auc_score(labelsF, svm_prob)"
   ]
  },
  {
   "cell_type": "code",
   "execution_count": 45,
   "metadata": {
    "colab": {
     "base_uri": "https://localhost:8080/",
     "height": 389
    },
    "id": "So9lrAppOOvB",
    "outputId": "084a228a-7699-408d-8127-43bce4ca791b"
   },
   "outputs": [
    {
     "data": {
      "image/png": "[encoded data removed]",
      "text/plain": [
       "<Figure size 576x396 with 1 Axes>"
      ]
     },
     "metadata": {},
     "output_type": "display_data"
    }
   ],
   "source": [
    "# Print AUC ROC\n",
    "plt.style.use('seaborn')\n",
    "\n",
    "plt.plot(fpr2, tpr2, color='navy', label='SVM ROC AUC: '+two_d(auc_score2))\n",
    "plt.plot(fpr1, tpr1, color='cornflowerblue', label='KNN ROC AUC: '+two_d(auc_score1))\n",
    "plt.plot([0, 1], [0, 1], color=\"grey\", lw=1, linestyle=\":\")\n",
    "plt.title('ROC Curves', fontsize=18, horizontalalignment='left',x=0, pad=10)\n",
    "plt.xlabel('False Positive Rate', fontsize=16,horizontalalignment='left', x=0.03)\n",
    "plt.ylabel('True Positive Rate', fontsize=16,verticalalignment = 'bottom', y=0.2)\n",
    "\n",
    "plt.legend(loc='lower right')\n",
    "plt.show()"
   ]
  },
  {
   "cell_type": "markdown",
   "metadata": {
    "id": "KVFfBLV0lgvQ"
   },
   "source": [
    "**Sentiment Analysis**"
   ]
  },
  {
   "cell_type": "code",
   "execution_count": 46,
   "metadata": {
    "colab": {
     "base_uri": "https://localhost:8080/"
    },
    "id": "vjtgt-g6lkvM",
    "outputId": "237a4f47-60dc-4350-973b-77be3f3538f4"
   },
   "outputs": [
    {
     "name": "stdout",
     "output_type": "stream",
     "text": [
      "[nltk_data] Downloading package vader_lexicon to /root/nltk_data...\n",
      "[nltk_data]   Package vader_lexicon is already up-to-date!\n"
     ]
    },
    {
     "name": "stderr",
     "output_type": "stream",
     "text": [
      "/usr/local/lib/python3.7/dist-packages/nltk/twitter/__init__.py:20: UserWarning: The twython library has not been installed. Some functionality from the twitter package will not be available.\n",
      "  warnings.warn(\"The twython library has not been installed. \"\n"
     ]
    }
   ],
   "source": [
    "# for sentiment analysis\n",
    "from nltk.sentiment.vader import SentimentIntensityAnalyzer\n",
    "nltk.download('vader_lexicon')\n",
    "analyzer = SentimentIntensityAnalyzer()\n",
    "from pyspark.sql.functions import udf\n",
    "from pyspark.sql.types import StructType\n",
    "from pyspark.sql.types import *\n",
    "\n",
    "# sent function returns vader sentiment score\n",
    "def sent(clnText):\n",
    "  return float(analyzer.polarity_scores(clnText)['compound'])\n",
    "\n",
    "# udf needed to apply sent function to cleaned tweet text\n",
    "udfSent = udf(sent, FloatType())"
   ]
  },
  {
   "cell_type": "code",
   "execution_count": 47,
   "metadata": {
    "id": "EmTlnj__6N6T"
   },
   "outputs": [],
   "source": [
    "# add sentiment to combined df\n",
    "comb = comb.withColumn('sentiment', udfSent('clnNoMent'))"
   ]
  },
  {
   "cell_type": "code",
   "execution_count": 48,
   "metadata": {
    "id": "zj1EMBNmIeDy"
   },
   "outputs": [],
   "source": [
    "# get average sentiment for graph\n",
    "unfilt_sent = comb.agg({\"sentiment\": \"avg\"}).collect()[0][\"avg(sentiment)\"]\n",
    "filt_sent = comb.filter(comb['rft'] == 1).agg({\"sentiment\": \"avg\"}).collect()[0][\"avg(sentiment)\"]\n",
    "svm_sent = comb.filter(comb['svm'] == 1).agg({\"sentiment\": \"avg\"}).collect()[0][\"avg(sentiment)\"]\n",
    "svm2_sent = comb.filter(comb['psvm'] == 1).agg({\"sentiment\": \"avg\"}).collect()[0][\"avg(sentiment)\"]"
   ]
  },
  {
   "cell_type": "code",
   "execution_count": 49,
   "metadata": {
    "colab": {
     "base_uri": "https://localhost:8080/",
     "height": 465
    },
    "id": "-IcC7bnT5Sgg",
    "outputId": "e96a59ff-1720-4bad-ed1f-d0e0b9b88757"
   },
   "outputs": [
    {
     "data": {
      "image/png": "[encoded data removed]",
      "text/plain": [
       "<Figure size 576x396 with 1 Axes>"
      ]
     },
     "metadata": {},
     "output_type": "display_data"
    }
   ],
   "source": [
    "# Create sentiment comparison graph\n",
    "import matplotlib.pyplot as plt\n",
    "plt.style.use('seaborn')\n",
    "fig = plt.figure()\n",
    "ax = fig.add_axes([0,0,1,1])\n",
    "filters = ['No Filter', 'RFT', 'SVM']\n",
    "value_v = [unfilt_sent,filt_sent,svm_sent]\n",
    "ax.bar(filters,value_v,color='cornflowerblue')\n",
    "plt.title('Sentiment Result Comparison', fontsize=15, horizontalalignment='left',x=0, pad=10)\n",
    "plt.show()"
   ]
  },
  {
   "cell_type": "code",
   "execution_count": 50,
   "metadata": {
    "colab": {
     "base_uri": "https://localhost:8080/",
     "height": 465
    },
    "id": "C7T6QOjRAv6f",
    "outputId": "42fbe37f-dc6e-4227-efab-ac3aa02641cf"
   },
   "outputs": [
    {
     "data": {
      "image/png": "[encoded data removed]",
      "text/plain": [
       "<Figure size 576x396 with 1 Axes>"
      ]
     },
     "metadata": {},
     "output_type": "display_data"
    }
   ],
   "source": [
    "# Create sentiment comparison graph\n",
    "import matplotlib.pyplot as plt\n",
    "plt.style.use('seaborn')\n",
    "fig = plt.figure()\n",
    "ax = fig.add_axes([0,0,1,1])\n",
    "filters = ['No Filter', 'RFT', 'SVM','PSVM']\n",
    "value_v = [unfilt_sent,filt_sent,svm_sent,svm2_sent]\n",
    "ax.bar(filters,value_v,color='cornflowerblue')\n",
    "plt.title('Sentiment Result Comparison', fontsize=15, horizontalalignment='left',x=0, pad=10)\n",
    "plt.show()"
   ]
  }
 ],
 "metadata": {
  "colab": {
   "collapsed_sections": [],
   "name": "ProjectMain_LeMay.ipynb",
   "provenance": []
  },
  "kernelspec": {
   "display_name": "Python 3",
   "language": "python",
   "name": "python3"
  },
  "language_info": {
   "codemirror_mode": {
    "name": "ipython",
    "version": 3
   },
   "file_extension": ".py",
   "mimetype": "text/x-python",
   "name": "python",
   "nbconvert_exporter": "python",
   "pygments_lexer": "ipython3",
   "version": "3.7.4"
  }
 },
 "nbformat": 4,
 "nbformat_minor": 1
}
